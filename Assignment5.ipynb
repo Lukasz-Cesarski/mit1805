{
 "cells": [
  {
   "cell_type": "markdown",
   "metadata": {},
   "source": [
    "# Assignment 5\n",
    "\n",
    "\n",
    "https://ocw.mit.edu/courses/mathematics/18-05-introduction-to-probability-and-statistics-spring-2014/assignments/MIT18_05S14_ps5.pdf"
   ]
  },
  {
   "cell_type": "markdown",
   "metadata": {},
   "source": [
    "## Problem 1"
   ]
  },
  {
   "cell_type": "markdown",
   "metadata": {},
   "source": [
    "a)  \n",
    "Hint: $y_i-ax_i-b \\sim N(0, \\sigma^2)$\n",
    "\n",
    "$y_i -ax_i-b = \\epsilon_i \\sim N(0, \\sigma^2)$\n",
    "\n",
    "$y_i = \\epsilon_i +ax_i+b \\sim N(ax_i+b, \\sigma^2)$\n",
    "\n",
    "Normal distribution:\n",
    "\n",
    "$f(x) = \\frac{1}{{\\sigma \\sqrt {2\\pi } }} e^\\frac{-( {x - \\mu })^2 }{2\\sigma ^2 }$  \n",
    "\n",
    "\n",
    "\n",
    "Likelihood:  \n",
    "\n",
    "$f(y_i | a,b,x_i,\\sigma) = \\frac{1}{{\\sigma \\sqrt {2\\pi } }} e^\\frac{-( {y - ax_i-b})^2 }{2\\sigma ^2 }$"
   ]
  },
  {
   "cell_type": "markdown",
   "metadata": {},
   "source": [
    "b)  \n",
    "data: (1,8), (3,2), (5,1)\n",
    "\n",
    "likelihood:\n",
    "\n",
    "$f(8,3,2 | a,b,\\sigma) = f(8 | a,b,1,\\sigma) \\cdot f(3 | a,b,2,\\sigma) \\cdot f(1 | a,b,5,\\sigma) = $\n",
    "\n",
    "\n",
    "$ = {(\\frac{1}{{\\sigma \\sqrt {2\\pi } }})}^3 e^{-\\frac{({8 - 1a-b})^2 + ({2 - 3a-b})^2 + ({1 - 5a-b})^2}{2\\sigma ^2 }}$"
   ]
  },
  {
   "cell_type": "markdown",
   "metadata": {},
   "source": [
    "loglikelihood:\n",
    "\n",
    "$ ln(f(8,3,2 | a,b,\\sigma)) = -3ln(\\sigma) - \\frac{3}{2}ln(2\\pi) - \\frac{1}{2\\sigma^2 }(({8 - 1a-b})^2 + ({2 - 3a-b})^2 + ({1 - 5a-b})^2) $"
   ]
  },
  {
   "cell_type": "markdown",
   "metadata": {},
   "source": [
    "$f(y_1, y_2, \\dots, y_n | a,b,\\sigma) = {(\\frac{1}{{\\sigma \\sqrt {2\\pi } }})}^n e^{-\\frac{\\sum_{i=1}^{n} ( {y_i - ax_i-b})^2}{2\\sigma ^2 }}$\n",
    "\n",
    "$ln(f(y_1, y_2, \\dots, y_n | a,b,\\sigma)) = -n\\cdot ln(\\sigma) - \\frac{n}{2}ln(2\\pi) -\\frac{1}{2\\sigma^2 }\\sum_{i=1}^{n} ( {y_i - ax_i-b})^2 $"
   ]
  },
  {
   "cell_type": "markdown",
   "metadata": {},
   "source": [
    "c)  \n",
    "$ \\frac{d}{d a} ln(f(8,3,2 | a,b,\\sigma)) = -\\frac{2}{2\\sigma^2 }(-1(8 - 1a-b) - 3(2 - 3a-b)-5(1 - 5a-b) ) = \\frac{1}{\\sigma^2 }(-35a-9b+19)$"
   ]
  },
  {
   "cell_type": "markdown",
   "metadata": {},
   "source": [
    "$ \\frac{d}{d b} ln(f(8,3,2 | a,b,\\sigma)) = -\\frac{2}{2\\sigma^2 }(-1(8 - 1a-b) - 1(2 - 3a-b)-1(1 - 5a-b) ) = \\frac{1}{\\sigma^2 }(-9a-3b+11)$"
   ]
  },
  {
   "cell_type": "markdown",
   "metadata": {},
   "source": [
    "$-35a-9b+19 = 0$  \n",
    "$-9a-3b+11 = 0$  "
   ]
  },
  {
   "cell_type": "code",
   "execution_count": 1,
   "metadata": {},
   "outputs": [],
   "source": [
    "w0 = 35*3 - 9*9\n",
    "w1 = 19*3 - 9*11\n",
    "w2 = 35*11 - 9*19"
   ]
  },
  {
   "cell_type": "code",
   "execution_count": 2,
   "metadata": {},
   "outputs": [
    {
     "data": {
      "text/plain": [
       "-1.75"
      ]
     },
     "execution_count": 2,
     "metadata": {},
     "output_type": "execute_result"
    }
   ],
   "source": [
    "a = w1/w0\n",
    "a"
   ]
  },
  {
   "cell_type": "code",
   "execution_count": 3,
   "metadata": {},
   "outputs": [
    {
     "data": {
      "text/plain": [
       "8.916666666666666"
      ]
     },
     "execution_count": 3,
     "metadata": {},
     "output_type": "execute_result"
    }
   ],
   "source": [
    "b = w2/w0\n",
    "b"
   ]
  },
  {
   "cell_type": "markdown",
   "metadata": {},
   "source": [
    "d)"
   ]
  },
  {
   "cell_type": "code",
   "execution_count": 4,
   "metadata": {},
   "outputs": [],
   "source": [
    "import numpy as np\n",
    "import matplotlib.pyplot as plt"
   ]
  },
  {
   "cell_type": "code",
   "execution_count": 5,
   "metadata": {},
   "outputs": [
    {
     "data": {
      "text/plain": [
       "[<matplotlib.lines.Line2D at 0x23c7e41b358>]"
      ]
     },
     "execution_count": 5,
     "metadata": {},
     "output_type": "execute_result"
    },
    {
     "data": {
      "image/png": "[encoded data removed]",
      "text/plain": [
       "<Figure size 432x288 with 1 Axes>"
      ]
     },
     "metadata": {
      "needs_background": "light"
     },
     "output_type": "display_data"
    }
   ],
   "source": [
    "x = np.array([1,3,5])\n",
    "y = np.array([8,2,1])\n",
    "x_i = np.linspace(0,6,100)\n",
    "y_i = x_i*a+b\n",
    "\n",
    "plt.scatter(x,y)\n",
    "plt.plot(x_i, y_i)"
   ]
  },
  {
   "cell_type": "markdown",
   "metadata": {},
   "source": [
    "## Problem 2\n"
   ]
  },
  {
   "cell_type": "markdown",
   "metadata": {},
   "source": [
    "a)"
   ]
  },
  {
   "cell_type": "code",
   "execution_count": 6,
   "metadata": {},
   "outputs": [
    {
     "name": "stdout",
     "output_type": "stream",
     "text": [
      "a= 1.2\n",
      "b= 10.5\n"
     ]
    }
   ],
   "source": [
    "data = np.array([1.2, 2.1, 1.3, 10.5, 5])\n",
    "a = min(data)\n",
    "print(\"a=\", a)\n",
    "b = max(data)\n",
    "print(\"b=\", b)"
   ]
  },
  {
   "cell_type": "markdown",
   "metadata": {},
   "source": [
    "b)\n",
    "\n",
    "$a = min([x_1, x_2, \\dots x_n])$  \n",
    "$b = max([x_1, x_2, \\dots x_n])$  "
   ]
  },
  {
   "cell_type": "markdown",
   "metadata": {},
   "source": [
    "## Problem 3\n"
   ]
  },
  {
   "cell_type": "markdown",
   "metadata": {},
   "source": [
    "a)\n",
    "\n",
    "|  H | P(H) | P(D\\|H) | P(H)P(D\\|H)| P(H\\|D) |\n",
    "|---|---|---|---|---|\n",
    "| car=A | 1/3 | 0.5 | 1/6 | 1/3 |\n",
    "| car=B | 1/3 | 0 | 0 | 0 |\n",
    "| car=C | 1/3 | 1 | 1/3 | 2/3 |\n"
   ]
  },
  {
   "cell_type": "markdown",
   "metadata": {},
   "source": [
    "b)\n",
    "\n",
    "|  H | P(H) | P(D\\|H) | P(H)P(D\\|H)| P(H\\|D) |\n",
    "|---|---|---|---|---|\n",
    "| car=A | 1/3 | 0.5 | 1/6 | 1/2 |\n",
    "| car=B | 1/3 | 0.0 | 0.0 | 0.0 |\n",
    "| car=C | 1/3 | 0.5 | 1/6 | 1/2 |\n"
   ]
  },
  {
   "cell_type": "markdown",
   "metadata": {},
   "source": [
    "c)\n",
    "\n",
    "|  H | P(H) | P(D\\|H) | P(H)P(D\\|H)| P(H\\|D) |\n",
    "|---|---|---|---|---|\n",
    "| car=A | 1/3 | 0.5\\*0.7+0.5\\*0.3=0.5 | 1/6 | 10/27|\n",
    "| car=B | 1/3 | 0.0\\*0.7+0.0\\*0.3=0.0 | 0.0 | 0.0 |\n",
    "| car=C | 1/3 | 1.0\\*0.7+0.5\\*0.3=0.85 | 17/60 | 17/27|\n"
   ]
  },
  {
   "cell_type": "markdown",
   "metadata": {},
   "source": [
    "## Problem 4\n"
   ]
  },
  {
   "cell_type": "markdown",
   "metadata": {},
   "source": [
    "a)  \n",
    "$dices = [4,6,8,12,20]$  \n",
    "$priors = [0.2,0.2,0.2,0.2,0.2]$  \n",
    "$single\\_roll\\_likelihood = [0,0,1/8,1/12,1/20]$  \n",
    "$n\\_roll\\_likelihood = [0,0,\\frac{1}{8^n},\\frac{1}{12^n},\\frac{1}{20^n}]$  \n",
    "$likelihood\\_sum = \\frac{1}{8^n} + \\frac{1}{12^n} + \\frac{1}{20^n}$  \n",
    "$n\\_roll\\_posteriors = [0,0,\\frac{1}{8^n}/likelihood\\_sum,\\frac{1}{12^n}/likelihood\\_sum,\\frac{1}{20^n}/likelihood\\_sum]$  \n",
    "b)  \n",
    "8-side die is the most possible"
   ]
  },
  {
   "cell_type": "markdown",
   "metadata": {},
   "source": [
    "c)  \n",
    " \n",
    "$for x_{n+1} = 1, ... ,8$    \n",
    "$P(x_{n+1}|data) = 1/8\\cdot P(Dice=8) + 1/12\\cdot P(Dice=12) + 1/20\\cdot P(Dice=20)$  \n",
    "\n",
    "$for x_{n+1} = 9, ..., 12$  \n",
    "$P(x_{n+1}|data) = 1/12\\cdot P(Dice=12) + 1/20\\cdot P(Dice=20) $  \n",
    "\n",
    "$for x_{n+1} = 13, ..., 20$  \n",
    "$P(x_{n+1}|data) = 1/20\\cdot P(Dice=20) $  \n",
    "\n",
    "d)  \n",
    "when n grows to infininty we see that proabablity of $x_{n+1} = 1, ... ,8$ grows to 1/8 and the rest  $x_{n+1} = 9, ... ,20$ goes to 0"
   ]
  },
  {
   "cell_type": "markdown",
   "metadata": {},
   "source": [
    "## Problem 5"
   ]
  },
  {
   "cell_type": "markdown",
   "metadata": {},
   "source": [
    "50 coin:  \n",
    "* 10 coins, p=0.3 (for heads)\n",
    "* 30 coins, p=0.5 (for heads)\n",
    "* 10 coins, p=0.7 (for heads)\n",
    "\n",
    "a)    \n",
    "$ O = 0.1/0.4 = 0.25 $\n",
    "\n"
   ]
  },
  {
   "cell_type": "markdown",
   "metadata": {},
   "source": [
    "b)  \n",
    "$P(E) = 10/50 \\cdot 0.3 + 30/50 \\cdot 0.5 + 10/50 \\cdot 0.7 = 0.5$  \n",
    "$O(E) = 0.5/(1-0.5) = 1.0 $  \n"
   ]
  },
  {
   "cell_type": "markdown",
   "metadata": {},
   "source": [
    "c) \n",
    "\n",
    "|  H | O(H) | Bayes Factor: P(D\\|H)/P(D\\|Hc) | O(H\\|D) |\n",
    "|---|---|---|---|\n",
    "| coin=0.3 | 0.25 | 0.3/(0.7\\*1/4+0.5\\*3/4) | 0.25\\*0.3/(0.7\\*1/4+0.5\\*3/4)=0.13636363636363635 |\n",
    "| coin=0.5 | 1.5 | 1 | 1.5 |\n",
    "| coin=0.7 | 0.25 | 0.7/(0.3\\*1/4+0.5\\*3/4) | 0.25\\*0.7/(0.3\\*1/4+0.5\\*3/4)=0.38888888888888884 |"
   ]
  },
  {
   "cell_type": "code",
   "execution_count": 11,
   "metadata": {},
   "outputs": [
    {
     "data": {
      "text/plain": [
       "0.13636363636363635"
      ]
     },
     "execution_count": 11,
     "metadata": {},
     "output_type": "execute_result"
    }
   ],
   "source": [
    "0.25*0.3/(0.7*1/4 + 0.5*3/4)"
   ]
  },
  {
   "cell_type": "code",
   "execution_count": 12,
   "metadata": {},
   "outputs": [
    {
     "data": {
      "text/plain": [
       "0.38888888888888884"
      ]
     },
     "execution_count": 12,
     "metadata": {},
     "output_type": "execute_result"
    }
   ],
   "source": [
    "0.25*0.7/(0.3*1/4 + 0.5*3/4)"
   ]
  },
  {
   "cell_type": "markdown",
   "metadata": {},
   "source": [
    "d)  \n",
    "P(heads) = "
   ]
  },
  {
   "cell_type": "code",
   "execution_count": 17,
   "metadata": {},
   "outputs": [
    {
     "data": {
      "text/plain": [
       "0.5319999999999999"
      ]
     },
     "execution_count": 17,
     "metadata": {},
     "output_type": "execute_result"
    }
   ],
   "source": [
    "p_heads_second = 0.3 * 0.13636363636363635/(1+0.13636363636363635) + \\\n",
    "0.5 * 1.5/(1+1.5) + \\\n",
    "0.7 * 0.38888888888888884/(1+0.38888888888888884)\n",
    "p_heads_second"
   ]
  },
  {
   "cell_type": "code",
   "execution_count": 19,
   "metadata": {},
   "outputs": [
    {
     "data": {
      "text/plain": [
       "1.1367521367521363"
      ]
     },
     "execution_count": 19,
     "metadata": {},
     "output_type": "execute_result"
    }
   ],
   "source": [
    "odds_heads_second = p_heads_second/(1-p_heads_second)\n",
    "odds_heads_second"
   ]
  },
  {
   "cell_type": "markdown",
   "metadata": {},
   "source": [
    "## Problem 6"
   ]
  },
  {
   "cell_type": "markdown",
   "metadata": {},
   "source": [
    "a) \n",
    "they lawyer said that:\n",
    "P(M|B) = 1/1000\n",
    "\n",
    "but what we are really interest in is:\n",
    "P(M|B,K) = ????\n",
    "\n",
    "P(M|B,K) = \n"
   ]
  }
 ],
 "metadata": {
  "kernelspec": {
   "display_name": "Python 3",
   "language": "python",
   "name": "python3"
  },
  "language_info": {
   "codemirror_mode": {
    "name": "ipython",
    "version": 3
   },
   "file_extension": ".py",
   "mimetype": "text/x-python",
   "name": "python",
   "nbconvert_exporter": "python",
   "pygments_lexer": "ipython3",
   "version": "3.7.3"
  }
 },
 "nbformat": 4,
 "nbformat_minor": 4
}
