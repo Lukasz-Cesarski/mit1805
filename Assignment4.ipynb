{
 "cells": [
  {
   "cell_type": "markdown",
   "metadata": {},
   "source": [
    "# Assignment 4\n",
    "\n",
    "https://ocw.mit.edu/courses/mathematics/18-05-introduction-to-probability-and-statistics-spring-2014/assignments/MIT18_05S14_ps4.pdf"
   ]
  },
  {
   "cell_type": "markdown",
   "metadata": {},
   "source": [
    "## Problem 1\n",
    "$f(x) = \\lambda e^{-\\lambda x}$\n",
    "\n",
    "a)  \n",
    "$P(X \\geq x) = 1 - P(X<x) = 1 - \\int_0^x f(x) dx = 1-(-e^{-\\lambda x})|_{x=0}^{x=x} = 1 - (-e^{-\\lambda x} - (-1))=e^{-\\lambda x}$"
   ]
  },
  {
   "cell_type": "code",
   "execution_count": 2,
   "metadata": {},
   "outputs": [],
   "source": [
    "import numpy as np\n",
    "import pandas as pd\n",
    "import matplotlib.pyplot as plt"
   ]
  },
  {
   "cell_type": "code",
   "execution_count": 21,
   "metadata": {},
   "outputs": [],
   "source": [
    "x = np.linspace(0, 5, 100)\n",
    "lambda_ = 2\n",
    "pdf = lambda_*np.exp(-lambda_*x)\n",
    "cdf = np.exp(-lambda_*x)"
   ]
  },
  {
   "cell_type": "code",
   "execution_count": 24,
   "metadata": {},
   "outputs": [
    {
     "data": {
      "text/plain": [
       "Text(0.5, 1.0, '$P(X \\\\geq x) = e^{-\\\\lambda x}$')"
      ]
     },
     "execution_count": 24,
     "metadata": {},
     "output_type": "execute_result"
    },
    {
     "data": {
      "image/png": "[encoded data removed]",
      "text/plain": [
       "<Figure size 576x576 with 2 Axes>"
      ]
     },
     "metadata": {
      "needs_background": "light"
     },
     "output_type": "display_data"
    }
   ],
   "source": [
    "fig, ax = plt.subplots(nrows=2, sharex=True, figsize=(8,8))\n",
    "ax[0].plot(x,pdf)\n",
    "ax[0].set_title(\"$f(x) = \\lambda e^{-\\lambda x}$\")\n",
    "# ax[0].set_xscale('log')\n",
    "# ax[0].set_yscale('log')\n",
    "ax[1].plot(x,cdf)\n",
    "ax[1].set_title(\"$P(X \\geq x) = e^{-\\lambda x}$\")\n",
    "# ax[1].set_xscale('log')"
   ]
  },
  {
   "cell_type": "markdown",
   "metadata": {},
   "source": [
    "b)  \n",
    "$P(T \\geq t) = P(X_1 \\geq t, X_2 \\geq t) = P(X_1 \\geq t) P(X_2 \\geq t) = e^{-\\lambda x} e^{-\\lambda x} = e^{-2\\lambda x}$  \n",
    "\n",
    "calculating CDF:  \n",
    "$F_T(t) = P(T \\lt t) = 1 - P(T \\geq t) = 1 - e^{-2\\lambda x} $  \n",
    "\n",
    "calculating PDF:  \n",
    "$f_T(t) = \\frac{d}{dt} F_T(t) = 0 - (-2 \\lambda) e^{-2\\lambda x} = 2 \\lambda e^{-2\\lambda x}$\n",
    "\n",
    "exponential distribution with parameter $2\\lambda$ and mean $\\frac{1}{2\\lambda}$"
   ]
  },
  {
   "cell_type": "markdown",
   "metadata": {},
   "source": [
    "c)\n",
    "$P(T \\geq t) = P(X_1 \\geq t, X_2 \\geq t, X_3 \\geq t) = P(X_1 \\geq t) P(X_2 \\geq t) P(X_3 \\geq t) = e^{-\\lambda_1 x} e^{-\\lambda_2 x} e^{-\\lambda_3 x} = e^{-(\\lambda_1+\\lambda_2+\\lambda_3) x} $\n",
    "\n",
    "calculating CDF:  \n",
    "$F_T(t) = P(T \\lt t) = 1 - P(T \\geq t) = 1 - e^{-(\\lambda_1+\\lambda_2+\\lambda_3) x} $  \n",
    "\n",
    "calculating PDF:  \n",
    "$f_T(t) = \\frac{d}{dt} F_T(t) = 0 - (-2 \\lambda) e^{-2\\lambda x} = (\\lambda_1+\\lambda_2+\\lambda_3) e^{-(\\lambda_1+\\lambda_2+\\lambda_3) x}$\n",
    "\n",
    "exponential distribution with parameter $(\\lambda_1+\\lambda_2+\\lambda_3)$ and mean $\\frac{1}{(\\lambda_1+\\lambda_2+\\lambda_3)} = \\frac{1}{2+3+5}= \\frac{1}{10}$"
   ]
  },
  {
   "cell_type": "markdown",
   "metadata": {},
   "source": [
    "## Problem 2"
   ]
  },
  {
   "cell_type": "markdown",
   "metadata": {},
   "source": [
    "a)  \n",
    "$f(x,y) = c(x^2 + xy) $ on [0,1] x [0,1]  \n",
    "$F(x,y) = \\int_0^x\\int_0^y f(x,y) dx dy = c(\\frac{1}{3}x^3y + \\frac{1}{4}x^2y^2)|_0^x|_0^y = c(\\frac{1}{3}x^3y + \\frac{1}{4}x^2y^2)$  \n",
    "$ c(\\frac{1}{3}1^3 + \\frac{1}{4}1^21^2) = 1$  \n",
    "$ c(\\frac{7}{12}) = 1$  \n",
    "$ c = \\frac{12}{7}$  \n"
   ]
  },
  {
   "cell_type": "code",
   "execution_count": null,
   "metadata": {},
   "outputs": [],
   "source": []
  }
 ],
 "metadata": {
  "kernelspec": {
   "display_name": "Python 3",
   "language": "python",
   "name": "python3"
  },
  "language_info": {
   "codemirror_mode": {
    "name": "ipython",
    "version": 3
   },
   "file_extension": ".py",
   "mimetype": "text/x-python",
   "name": "python",
   "nbconvert_exporter": "python",
   "pygments_lexer": "ipython3",
   "version": "3.7.3"
  }
 },
 "nbformat": 4,
 "nbformat_minor": 4
}
