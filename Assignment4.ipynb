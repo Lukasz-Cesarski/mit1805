{
 "cells": [
  {
   "cell_type": "markdown",
   "metadata": {},
   "source": [
    "# Assignment 4\n",
    "\n",
    "https://ocw.mit.edu/courses/mathematics/18-05-introduction-to-probability-and-statistics-spring-2014/assignments/MIT18_05S14_ps4.pdf"
   ]
  },
  {
   "cell_type": "markdown",
   "metadata": {},
   "source": [
    "## Problem 1\n",
    "$f(x) = \\lambda e^{-\\lambda x}$\n",
    "\n",
    "a)  \n",
    "$P(X \\geq x) = 1 - P(X<x) = 1 - \\int_0^x f(x) dx = 1-(-e^{-\\lambda x})|_{x=0}^{x=x} = 1 - (-e^{-\\lambda x} - (-1))=e^{-\\lambda x}$"
   ]
  },
  {
   "cell_type": "code",
   "execution_count": 1,
   "metadata": {},
   "outputs": [],
   "source": [
    "import numpy as np\n",
    "import pandas as pd\n",
    "import matplotlib.pyplot as plt"
   ]
  },
  {
   "cell_type": "code",
   "execution_count": 2,
   "metadata": {},
   "outputs": [],
   "source": [
    "x = np.linspace(0, 5, 100)\n",
    "lambda_ = 2\n",
    "pdf = lambda_*np.exp(-lambda_*x)\n",
    "cdf = np.exp(-lambda_*x)"
   ]
  },
  {
   "cell_type": "code",
   "execution_count": 3,
   "metadata": {},
   "outputs": [
    {
     "data": {
      "text/plain": [
       "Text(0.5, 1.0, '$P(X \\\\geq x) = e^{-\\\\lambda x}$')"
      ]
     },
     "execution_count": 3,
     "metadata": {},
     "output_type": "execute_result"
    },
    {
     "data": {
      "image/png": "[encoded data removed]",
      "text/plain": [
       "<Figure size 576x576 with 2 Axes>"
      ]
     },
     "metadata": {
      "needs_background": "light"
     },
     "output_type": "display_data"
    }
   ],
   "source": [
    "fig, ax = plt.subplots(nrows=2, sharex=True, figsize=(8,8))\n",
    "ax[0].plot(x,pdf)\n",
    "ax[0].set_title(\"$f(x) = \\lambda e^{-\\lambda x}$\")\n",
    "# ax[0].set_xscale('log')\n",
    "# ax[0].set_yscale('log')\n",
    "ax[1].plot(x,cdf)\n",
    "ax[1].set_title(\"$P(X \\geq x) = e^{-\\lambda x}$\")\n",
    "# ax[1].set_xscale('log')"
   ]
  },
  {
   "cell_type": "markdown",
   "metadata": {},
   "source": [
    "b)  \n",
    "$P(T \\geq t) = P(X_1 \\geq t, X_2 \\geq t) = P(X_1 \\geq t) P(X_2 \\geq t) = e^{-\\lambda x} e^{-\\lambda x} = e^{-2\\lambda x}$  \n",
    "\n",
    "calculating CDF:  \n",
    "$F_T(t) = P(T \\lt t) = 1 - P(T \\geq t) = 1 - e^{-2\\lambda x} $  \n",
    "\n",
    "calculating PDF:  \n",
    "$f_T(t) = \\frac{d}{dt} F_T(t) = 0 - (-2 \\lambda) e^{-2\\lambda x} = 2 \\lambda e^{-2\\lambda x}$\n",
    "\n",
    "exponential distribution with parameter $2\\lambda$ and mean $\\frac{1}{2\\lambda}$"
   ]
  },
  {
   "cell_type": "markdown",
   "metadata": {},
   "source": [
    "c)\n",
    "$P(T \\geq t) = P(X_1 \\geq t, X_2 \\geq t, X_3 \\geq t) = P(X_1 \\geq t) P(X_2 \\geq t) P(X_3 \\geq t) = e^{-\\lambda_1 x} e^{-\\lambda_2 x} e^{-\\lambda_3 x} = e^{-(\\lambda_1+\\lambda_2+\\lambda_3) x} $\n",
    "\n",
    "calculating CDF:  \n",
    "$F_T(t) = P(T \\lt t) = 1 - P(T \\geq t) = 1 - e^{-(\\lambda_1+\\lambda_2+\\lambda_3) x} $  \n",
    "\n",
    "calculating PDF:  \n",
    "$f_T(t) = \\frac{d}{dt} F_T(t) = 0 - (-2 \\lambda) e^{-2\\lambda x} = (\\lambda_1+\\lambda_2+\\lambda_3) e^{-(\\lambda_1+\\lambda_2+\\lambda_3) x}$\n",
    "\n",
    "exponential distribution with parameter $(\\lambda_1+\\lambda_2+\\lambda_3)$ and mean $\\frac{1}{(\\lambda_1+\\lambda_2+\\lambda_3)} = \\frac{1}{2+3+5}= \\frac{1}{10}$"
   ]
  },
  {
   "cell_type": "markdown",
   "metadata": {},
   "source": [
    "## Problem 2"
   ]
  },
  {
   "cell_type": "markdown",
   "metadata": {},
   "source": [
    "a)  \n",
    "$f(x,y) = c(x^2 + xy) $ on [0,1] x [0,1]  \n",
    "$F(x,y) = \\int_0^x\\int_0^y f(x,y) dx dy = c(\\frac{1}{3}x^3y + \\frac{1}{4}x^2y^2)|_0^x|_0^y = c(\\frac{1}{3}x^3y + \\frac{1}{4}x^2y^2)$  \n",
    "$ c(\\frac{1}{3}1^3 + \\frac{1}{4}1^21^2) = 1$  \n",
    "$ c(\\frac{7}{12}) = 1$  \n",
    "$ c = \\frac{12}{7}$  "
   ]
  },
  {
   "cell_type": "markdown",
   "metadata": {},
   "source": [
    "b)  \n",
    "$F_X(x) =  F(x,1) = c(\\frac{1}{3}x^3 + \\frac{1}{4}x^2)$  \n",
    "$F_Y(y) =  F(1,y) = c(\\frac{1}{3}y + \\frac{1}{4}y^2)$  \n",
    "$f_X(x) = \\int_0^1 f(x,y)dy = c(x^2y+\\frac{1}{2}xy^2)|_{y=0}^{y=1}= c(x^2+\\frac{1}{2}x)$  \n",
    "$f_Y(y) = \\int_0^1 f(x,y)dx = c(\\frac{1}{3}x^3+\\frac{1}{2}x^2y)|_{x=0}^{x=1} = c(\\frac{1}{3} + \\frac{1}{2}y)$  "
   ]
  },
  {
   "cell_type": "code",
   "execution_count": 4,
   "metadata": {},
   "outputs": [],
   "source": [
    "c = 12/7"
   ]
  },
  {
   "cell_type": "code",
   "execution_count": 5,
   "metadata": {},
   "outputs": [
    {
     "data": {
      "text/plain": [
       "0.029699999999999994"
      ]
     },
     "execution_count": 5,
     "metadata": {},
     "output_type": "execute_result"
    }
   ],
   "source": [
    "x = 0.3\n",
    "y = 0.7\n",
    "c*(1/3*x**3*y+1/4*x**2*y**2)"
   ]
  },
  {
   "cell_type": "code",
   "execution_count": 6,
   "metadata": {},
   "outputs": [
    {
     "data": {
      "text/plain": [
       "0.17857142857142855"
      ]
     },
     "execution_count": 6,
     "metadata": {},
     "output_type": "execute_result"
    }
   ],
   "source": [
    "x=0.5\n",
    "c*(1/3*x**3 + 1/4*x**2)"
   ]
  },
  {
   "cell_type": "code",
   "execution_count": 7,
   "metadata": {},
   "outputs": [
    {
     "data": {
      "text/plain": [
       "0.8571428571428571"
      ]
     },
     "execution_count": 7,
     "metadata": {},
     "output_type": "execute_result"
    }
   ],
   "source": [
    "c*(x**2 + 0.5*x)"
   ]
  },
  {
   "cell_type": "code",
   "execution_count": 8,
   "metadata": {},
   "outputs": [
    {
     "data": {
      "text/plain": [
       "0.8571428571428571"
      ]
     },
     "execution_count": 8,
     "metadata": {},
     "output_type": "execute_result"
    }
   ],
   "source": [
    "c*x"
   ]
  },
  {
   "cell_type": "code",
   "execution_count": 9,
   "metadata": {},
   "outputs": [
    {
     "data": {
      "text/plain": [
       "0.3928571428571428"
      ]
     },
     "execution_count": 9,
     "metadata": {},
     "output_type": "execute_result"
    }
   ],
   "source": [
    "y = 0.5\n",
    "c*(1/3*y + 1/4*y**2)"
   ]
  },
  {
   "cell_type": "code",
   "execution_count": 10,
   "metadata": {},
   "outputs": [
    {
     "data": {
      "text/plain": [
       "0.9999999999999998"
      ]
     },
     "execution_count": 10,
     "metadata": {},
     "output_type": "execute_result"
    }
   ],
   "source": [
    "c*(1/3+1/2*y)"
   ]
  },
  {
   "cell_type": "markdown",
   "metadata": {},
   "source": [
    "c)\n",
    "\n",
    "$E(X) = \\int_0^1xf_X(x)dx = \\int_0^1 c(x^3+\\frac{1}{2}x^2)dx = c(\\frac{1}{4}x^4 + \\frac{1}{6}x^3)  |_{x=0}^{x=1} = c\\frac{5}{12}$  \n",
    "\n",
    "$E(X^2) = \\int_0^1x^2f_X(x)dx= \\int_0^1 c(x^4+\\frac{1}{2}x^3)dx = c(\\frac{1}{5}x^5 + \\frac{1}{8}x^4)  |_{x=0}^{x=1} = c\\frac{13}{40}$\n",
    "\n",
    "$Var(X) = E(X^2) - (E(X))^2 =  c\\frac{13}{40} - (c\\frac{5}{12})^2$"
   ]
  },
  {
   "cell_type": "code",
   "execution_count": 11,
   "metadata": {},
   "outputs": [
    {
     "data": {
      "text/plain": [
       "0.7142857142857143"
      ]
     },
     "execution_count": 11,
     "metadata": {},
     "output_type": "execute_result"
    }
   ],
   "source": [
    "E_X = c*5/12\n",
    "E_X"
   ]
  },
  {
   "cell_type": "code",
   "execution_count": 12,
   "metadata": {},
   "outputs": [
    {
     "data": {
      "text/plain": [
       "0.5571428571428572"
      ]
     },
     "execution_count": 12,
     "metadata": {},
     "output_type": "execute_result"
    }
   ],
   "source": [
    "E_X2 = c*13/40\n",
    "E_X2"
   ]
  },
  {
   "cell_type": "code",
   "execution_count": 13,
   "metadata": {},
   "outputs": [
    {
     "data": {
      "text/plain": [
       "0.04693877551020409"
      ]
     },
     "execution_count": 13,
     "metadata": {},
     "output_type": "execute_result"
    }
   ],
   "source": [
    "Var_X = E_X2 - (E_X)**2\n",
    "Var_X"
   ]
  },
  {
   "cell_type": "markdown",
   "metadata": {},
   "source": [
    "d)\n",
    "\n",
    "$E(X) = \\int_0^1xf_X(x)dx = \\int_0^1 c(x^3+\\frac{1}{2}x^2)dx = c(\\frac{1}{4}x^4 + \\frac{1}{6}x^3)  |_{x=0}^{x=1} = c\\frac{5}{12}$  \n",
    "\n",
    "$E(X^2) = \\int_0^1x^2f_X(x)dx= \\int_0^1 c(x^4+\\frac{1}{2}x^3)dx = c(\\frac{1}{5}x^5 + \\frac{1}{8}x^4)  |_{x=0}^{x=1} = c\\frac{13}{40}$\n",
    "\n",
    "$Var(X) = E(X^2) - (E(X))^2 =  c\\frac{13}{40} - (c\\frac{5}{12})^2$"
   ]
  },
  {
   "cell_type": "markdown",
   "metadata": {},
   "source": [
    "d)\n",
    "\n",
    "$Cov(X,Y) = E((X-\\mu_X)(Y-\\mu_Y))$   \n",
    "$Cov(X,Y) = E(XY) - \\mu_X \\mu_Y$  \n",
    "\n",
    "$E(XY) = \\int_0^1\\int_0^1xyf(x,y)dxdy = c\\int_0^1\\int_0^1(x^3y+ x^2y^2) = c(\\frac{1}{4*2}x^4y^2+ \\frac{1}{3*4}x^3y^3)|_{x,y=0}^{x,y=1} = c(\\frac{1}{8} + \\frac{1}{9})= c\\frac{17}{72}$\n",
    "\n",
    "$E(Y) = \\int_0^1yf_Y(y)dy = \\int_0^1 c(\\frac{1}{3}y + \\frac{1}{2}y^2)dy = c(\\frac{1}{6}y^2 + \\frac{1}{6}y^3)  |_{y=0}^{y=1} = c(\\frac{1}{6} + \\frac{1}{6}) = c\\frac{1}{3}$  \n",
    "\n",
    "$E(Y^2) = \\int_0^1y^2f_Y(y)dy = \\int_0^1 c(\\frac{1}{3}y^2 + \\frac{1}{2}y^3)dy = c(\\frac{1}{9}y^3 + \\frac{1}{8}y^4)  |_{y=0}^{y=1} = c(\\frac{1}{9} + \\frac{1}{8}) = c\\frac{17}{72}$  \n",
    "\n",
    "$Var(Y) = E(Y^2) - (E(Y))^2 = c\\frac{17}{72} - (c\\frac{1}{3})^2$\n",
    "\n",
    "$Cov(X,Y) = c\\frac{17}{72} - c\\frac{5}{12} c\\frac{1}{3}$"
   ]
  },
  {
   "cell_type": "code",
   "execution_count": 14,
   "metadata": {},
   "outputs": [
    {
     "data": {
      "text/plain": [
       "0.5714285714285714"
      ]
     },
     "execution_count": 14,
     "metadata": {},
     "output_type": "execute_result"
    }
   ],
   "source": [
    "#E(Y)\n",
    "E_Y = c/3\n",
    "E_Y"
   ]
  },
  {
   "cell_type": "code",
   "execution_count": 15,
   "metadata": {},
   "outputs": [
    {
     "data": {
      "text/plain": [
       "-0.003401360544217691"
      ]
     },
     "execution_count": 15,
     "metadata": {},
     "output_type": "execute_result"
    }
   ],
   "source": [
    "#Cov(X,Y)\n",
    "Cov_XY = c*17/72 - c*5/12*c/3\n",
    "Cov_XY"
   ]
  },
  {
   "cell_type": "code",
   "execution_count": 16,
   "metadata": {},
   "outputs": [
    {
     "data": {
      "text/plain": [
       "0.07823129251700683"
      ]
     },
     "execution_count": 16,
     "metadata": {},
     "output_type": "execute_result"
    }
   ],
   "source": [
    "#Var(Y)\n",
    "Var_Y = c*17/72 - (c/3)**2\n",
    "Var_Y"
   ]
  },
  {
   "cell_type": "markdown",
   "metadata": {},
   "source": [
    "$Cor(X,Y) = \\frac{Cov(X,Y)}{\\sigma _x \\sigma _y}$"
   ]
  },
  {
   "cell_type": "code",
   "execution_count": 17,
   "metadata": {},
   "outputs": [
    {
     "data": {
      "text/plain": [
       "-0.05613019342329595"
      ]
     },
     "execution_count": 17,
     "metadata": {},
     "output_type": "execute_result"
    }
   ],
   "source": [
    "Cor_XY = Cov_XY/(Var_X**0.5 * Var_Y**0.5) \n",
    "Cor_XY"
   ]
  },
  {
   "cell_type": "markdown",
   "metadata": {},
   "source": [
    "## Problem 3\n",
    "NOTES:\n",
    "\n",
    "Suppose $X_1$, $X_2$,..., $X_n$ are independent random variables with the same underlying\n",
    "distribution. In this case, we say that the $X_i$ are independent and identically-distributed,\n",
    "or i.i.d. In particular, the $X_i$ all have the same mean $\\mu$ and standard deviation $\\sigma$.\n",
    "\n",
    "$\\overline X_n = \\frac{X_1 + X_2 + ... + X_n}{n} = \\frac{1}{n}\\sum_{i=1}^{n} X_i $ \n",
    "\n",
    "\n",
    "**LoLN**: As $n$ grows, the probability that $\\overline X_n$ is close to $\\mu$ goes to 1. \n",
    "\n",
    "Says that with high probability the average of a large number of independent trials from the same distribution\n",
    "will be very close to the underlying mean of the distribution.\n",
    "\n",
    "**CLT**: As $n$ grows, the distribution of $\\overline X_n$ converges to the normal distribution $N(\\mu, \\sigma^2/n)$.\n",
    "Before giving a more formal statement of the LoLN, let’s unpack its meaning through a\n",
    "concrete example (we’ll return to the CLT later on)."
   ]
  },
  {
   "cell_type": "code",
   "execution_count": 18,
   "metadata": {},
   "outputs": [],
   "source": [
    "sup_erika = 0.5\n",
    "supp_ruthi = 0.2\n",
    "supp_other = 0.3\n",
    "poll_people = 400"
   ]
  },
  {
   "cell_type": "markdown",
   "metadata": {},
   "source": [
    "a)  \n",
    "Let $X_j$ be the result of $j^{th}$ vote, so $X_j=1$ if the preson support Erika and $X_j=0$ otherwise. Then:\n",
    "\n",
    "$S = X_1 + X_2 + ... + X_{400}$\n",
    "\n",
    "$E(S) = n\\mu = 200$  \n",
    "$Var(S) = Var(S) n = 0.5 \\cdot (1-0.5) \\cdot 400 = 100$  \n",
    "$\\sigma_{S} = \\sqrt{Var(S)} = 10.0$  \n",
    "\n",
    "$p_{least} = 0.525$  \n",
    "$amount_{least} = 0.525 \\cdot 400 = 210$  \n",
    "\n",
    "$P(S>210) = P(\\frac{S - 200}{10}>\\frac{210 - 200}{10}) = P(Z>1) = 1 - P(Z<1)$\n"
   ]
  },
  {
   "cell_type": "code",
   "execution_count": 19,
   "metadata": {},
   "outputs": [],
   "source": [
    "from scipy.stats import norm"
   ]
  },
  {
   "cell_type": "code",
   "execution_count": 20,
   "metadata": {},
   "outputs": [
    {
     "data": {
      "text/plain": [
       "0.15865525393145707"
      ]
     },
     "execution_count": 20,
     "metadata": {},
     "output_type": "execute_result"
    }
   ],
   "source": [
    "1-norm.cdf(1)"
   ]
  },
  {
   "cell_type": "markdown",
   "metadata": {},
   "source": [
    "b)  \n",
    "$E(S) = n\\mu = 400 \\cdot 0.3 = 120$   \n",
    "$Var(S) = 0.3 \\cdot (1-0.3) \\cdot 400 = 84$  \n",
    "$\\sigma_{S} = \\sqrt{Var(S)} = 9.165$ \n",
    "\n",
    "$p_{least} = 0.25$  \n",
    "$amount_{least} = 0.25 \\cdot 400 = 100$ \n",
    "\n",
    "$P(S<100) = P(\\frac{S - 120}{9.165}>\\frac{100 - 120}{9.165}) = P(S<-2.182) = 0.0145$"
   ]
  },
  {
   "cell_type": "code",
   "execution_count": 21,
   "metadata": {},
   "outputs": [
    {
     "data": {
      "text/plain": [
       "0.014554766364443594"
      ]
     },
     "execution_count": 21,
     "metadata": {},
     "output_type": "execute_result"
    }
   ],
   "source": [
    "norm.cdf(-2.182)"
   ]
  },
  {
   "cell_type": "markdown",
   "metadata": {},
   "source": [
    "## Problem 4"
   ]
  },
  {
   "cell_type": "code",
   "execution_count": 22,
   "metadata": {},
   "outputs": [],
   "source": [
    "import numpy as np\n",
    "import pandas as pd"
   ]
  },
  {
   "cell_type": "code",
   "execution_count": 23,
   "metadata": {},
   "outputs": [
    {
     "data": {
      "text/plain": [
       "array([0.  , 0.01, 0.02, 0.03, 0.04, 0.05, 0.06, 0.07, 0.08, 0.09])"
      ]
     },
     "execution_count": 23,
     "metadata": {},
     "output_type": "execute_result"
    }
   ],
   "source": [
    "values = np.array([x for x in range(10)])/100\n",
    "values"
   ]
  },
  {
   "cell_type": "code",
   "execution_count": 24,
   "metadata": {},
   "outputs": [
    {
     "data": {
      "text/html": [
       "<div>\n",
       "<style scoped>\n",
       "    .dataframe tbody tr th:only-of-type {\n",
       "        vertical-align: middle;\n",
       "    }\n",
       "\n",
       "    .dataframe tbody tr th {\n",
       "        vertical-align: top;\n",
       "    }\n",
       "\n",
       "    .dataframe thead th {\n",
       "        text-align: right;\n",
       "    }\n",
       "</style>\n",
       "<table border=\"1\" class=\"dataframe\">\n",
       "  <thead>\n",
       "    <tr style=\"text-align: right;\">\n",
       "      <th></th>\n",
       "      <th>value</th>\n",
       "      <th>rounding</th>\n",
       "      <th>error</th>\n",
       "      <th>prob</th>\n",
       "      <th>E(X)</th>\n",
       "      <th>Var(X)</th>\n",
       "    </tr>\n",
       "  </thead>\n",
       "  <tbody>\n",
       "    <tr>\n",
       "      <th>0</th>\n",
       "      <td>0.00</td>\n",
       "      <td>0.00</td>\n",
       "      <td>0.0</td>\n",
       "      <td>0.1</td>\n",
       "      <td>0.0</td>\n",
       "      <td>0.0</td>\n",
       "    </tr>\n",
       "    <tr>\n",
       "      <th>1</th>\n",
       "      <td>0.01</td>\n",
       "      <td>0.00</td>\n",
       "      <td>1.0</td>\n",
       "      <td>0.1</td>\n",
       "      <td>0.1</td>\n",
       "      <td>0.1</td>\n",
       "    </tr>\n",
       "    <tr>\n",
       "      <th>2</th>\n",
       "      <td>0.02</td>\n",
       "      <td>0.00</td>\n",
       "      <td>2.0</td>\n",
       "      <td>0.1</td>\n",
       "      <td>0.2</td>\n",
       "      <td>0.4</td>\n",
       "    </tr>\n",
       "    <tr>\n",
       "      <th>3</th>\n",
       "      <td>0.03</td>\n",
       "      <td>0.05</td>\n",
       "      <td>-2.0</td>\n",
       "      <td>0.1</td>\n",
       "      <td>-0.2</td>\n",
       "      <td>0.4</td>\n",
       "    </tr>\n",
       "    <tr>\n",
       "      <th>4</th>\n",
       "      <td>0.04</td>\n",
       "      <td>0.05</td>\n",
       "      <td>-1.0</td>\n",
       "      <td>0.1</td>\n",
       "      <td>-0.1</td>\n",
       "      <td>0.1</td>\n",
       "    </tr>\n",
       "    <tr>\n",
       "      <th>5</th>\n",
       "      <td>0.05</td>\n",
       "      <td>0.05</td>\n",
       "      <td>0.0</td>\n",
       "      <td>0.1</td>\n",
       "      <td>0.0</td>\n",
       "      <td>0.0</td>\n",
       "    </tr>\n",
       "    <tr>\n",
       "      <th>6</th>\n",
       "      <td>0.06</td>\n",
       "      <td>0.05</td>\n",
       "      <td>1.0</td>\n",
       "      <td>0.1</td>\n",
       "      <td>0.1</td>\n",
       "      <td>0.1</td>\n",
       "    </tr>\n",
       "    <tr>\n",
       "      <th>7</th>\n",
       "      <td>0.07</td>\n",
       "      <td>0.05</td>\n",
       "      <td>2.0</td>\n",
       "      <td>0.1</td>\n",
       "      <td>0.2</td>\n",
       "      <td>0.4</td>\n",
       "    </tr>\n",
       "    <tr>\n",
       "      <th>8</th>\n",
       "      <td>0.08</td>\n",
       "      <td>0.10</td>\n",
       "      <td>-2.0</td>\n",
       "      <td>0.1</td>\n",
       "      <td>-0.2</td>\n",
       "      <td>0.4</td>\n",
       "    </tr>\n",
       "    <tr>\n",
       "      <th>9</th>\n",
       "      <td>0.09</td>\n",
       "      <td>0.10</td>\n",
       "      <td>-1.0</td>\n",
       "      <td>0.1</td>\n",
       "      <td>-0.1</td>\n",
       "      <td>0.1</td>\n",
       "    </tr>\n",
       "  </tbody>\n",
       "</table>\n",
       "</div>"
      ],
      "text/plain": [
       "   value  rounding  error  prob  E(X)  Var(X)\n",
       "0   0.00      0.00    0.0   0.1   0.0     0.0\n",
       "1   0.01      0.00    1.0   0.1   0.1     0.1\n",
       "2   0.02      0.00    2.0   0.1   0.2     0.4\n",
       "3   0.03      0.05   -2.0   0.1  -0.2     0.4\n",
       "4   0.04      0.05   -1.0   0.1  -0.1     0.1\n",
       "5   0.05      0.05    0.0   0.1   0.0     0.0\n",
       "6   0.06      0.05    1.0   0.1   0.1     0.1\n",
       "7   0.07      0.05    2.0   0.1   0.2     0.4\n",
       "8   0.08      0.10   -2.0   0.1  -0.2     0.4\n",
       "9   0.09      0.10   -1.0   0.1  -0.1     0.1"
      ]
     },
     "execution_count": 24,
     "metadata": {},
     "output_type": "execute_result"
    }
   ],
   "source": [
    "df = pd.DataFrame(values, columns=['value'])\n",
    "df['rounding'] = round(df['value']/0.05, 0) * 0.05\n",
    "df['error'] = (df['value'] - df['rounding'])*100\n",
    "df['prob'] = 0.1\n",
    "df['E(X)'] =  df['error'] * df['prob']\n",
    "df['Var(X)'] = df['error']**2 * df['prob']\n",
    "df"
   ]
  },
  {
   "cell_type": "code",
   "execution_count": 25,
   "metadata": {},
   "outputs": [
    {
     "data": {
      "text/plain": [
       "-2.220446049250313e-16"
      ]
     },
     "execution_count": 25,
     "metadata": {},
     "output_type": "execute_result"
    }
   ],
   "source": [
    "E_X = df['E(X)'].sum()\n",
    "E_X"
   ]
  },
  {
   "cell_type": "code",
   "execution_count": 26,
   "metadata": {},
   "outputs": [
    {
     "data": {
      "text/plain": [
       "2.000000000000001"
      ]
     },
     "execution_count": 26,
     "metadata": {},
     "output_type": "execute_result"
    }
   ],
   "source": [
    "Var_X = df['Var(X)'].sum()\n",
    "Var_X"
   ]
  },
  {
   "cell_type": "code",
   "execution_count": 27,
   "metadata": {},
   "outputs": [
    {
     "data": {
      "text/plain": [
       "1.4142135623730954"
      ]
     },
     "execution_count": 27,
     "metadata": {},
     "output_type": "execute_result"
    }
   ],
   "source": [
    "sigma_X = Var_X**0.5\n",
    "sigma_X"
   ]
  },
  {
   "cell_type": "markdown",
   "metadata": {},
   "source": [
    "Let $X_j$ be the error of $j^{th}$ transaction:\n",
    "\n",
    "$S = X_1 + X_2 + ... + X_{1000}$  \n",
    "\n",
    "$E(S) = n\\mu = 0$  \n",
    "$Var(S) = Var(X) n = 2 \\cdot 1000 = 2000$  \n",
    "$\\sigma_{S} = \\sqrt{Var(S)} = 44.72$  \n",
    "  \n",
    "$t = 100$  \n",
    "\n",
    "$P(S<-100) + P(100<S) = P(\\frac{S - 0}{44.72}<\\frac{-100-0}{44.72}) +  P(\\frac{100-0}{44.72}<\\frac{S - 0}{44.72})= 2*P(Z<-2.236) = 0.02535$"
   ]
  },
  {
   "cell_type": "code",
   "execution_count": 28,
   "metadata": {},
   "outputs": [
    {
     "data": {
      "text/plain": [
       "0.02535177115822233"
      ]
     },
     "execution_count": 28,
     "metadata": {},
     "output_type": "execute_result"
    }
   ],
   "source": [
    "2*norm.cdf(-2.236)"
   ]
  },
  {
   "cell_type": "markdown",
   "metadata": {},
   "source": [
    "## Problem 5"
   ]
  },
  {
   "cell_type": "code",
   "execution_count": 29,
   "metadata": {},
   "outputs": [
    {
     "data": {
      "text/html": [
       "<div>\n",
       "<style scoped>\n",
       "    .dataframe tbody tr th:only-of-type {\n",
       "        vertical-align: middle;\n",
       "    }\n",
       "\n",
       "    .dataframe tbody tr th {\n",
       "        vertical-align: top;\n",
       "    }\n",
       "\n",
       "    .dataframe thead th {\n",
       "        text-align: right;\n",
       "    }\n",
       "</style>\n",
       "<table border=\"1\" class=\"dataframe\">\n",
       "  <thead>\n",
       "    <tr style=\"text-align: right;\">\n",
       "      <th></th>\n",
       "      <th>Y=1</th>\n",
       "      <th>Y=2</th>\n",
       "      <th>Y=3</th>\n",
       "    </tr>\n",
       "  </thead>\n",
       "  <tbody>\n",
       "    <tr>\n",
       "      <th>X=1</th>\n",
       "      <td>0.055556</td>\n",
       "      <td>0.111111</td>\n",
       "      <td>0.166667</td>\n",
       "    </tr>\n",
       "    <tr>\n",
       "      <th>X=2</th>\n",
       "      <td>0.111111</td>\n",
       "      <td>0.166667</td>\n",
       "      <td>0.055556</td>\n",
       "    </tr>\n",
       "    <tr>\n",
       "      <th>X=3</th>\n",
       "      <td>0.166667</td>\n",
       "      <td>0.055556</td>\n",
       "      <td>0.111111</td>\n",
       "    </tr>\n",
       "  </tbody>\n",
       "</table>\n",
       "</div>"
      ],
      "text/plain": [
       "          Y=1       Y=2       Y=3\n",
       "X=1  0.055556  0.111111  0.166667\n",
       "X=2  0.111111  0.166667  0.055556\n",
       "X=3  0.166667  0.055556  0.111111"
      ]
     },
     "execution_count": 29,
     "metadata": {},
     "output_type": "execute_result"
    }
   ],
   "source": [
    "values = [1,2,3]\n",
    "\n",
    "df = pd.DataFrame(data=[\n",
    "    [1/18, 1/9, 1/6],\n",
    "    [1/9, 1/6, 1/18],\n",
    "    [1/6, 1/18, 1/9],\n",
    "],\n",
    "    columns=[f\"Y={v}\" for v in values], index=[f\"X={v}\" for v in values])\n",
    "df"
   ]
  },
  {
   "cell_type": "code",
   "execution_count": 30,
   "metadata": {},
   "outputs": [
    {
     "data": {
      "text/plain": [
       "Y=1    0.333333\n",
       "Y=2    0.333333\n",
       "Y=3    0.333333\n",
       "dtype: float64"
      ]
     },
     "execution_count": 30,
     "metadata": {},
     "output_type": "execute_result"
    }
   ],
   "source": [
    "Y_marginal = df.sum(axis=0)\n",
    "Y_marginal"
   ]
  },
  {
   "cell_type": "code",
   "execution_count": 31,
   "metadata": {},
   "outputs": [
    {
     "data": {
      "text/plain": [
       "X=1    0.333333\n",
       "X=2    0.333333\n",
       "X=3    0.333333\n",
       "dtype: float64"
      ]
     },
     "execution_count": 31,
     "metadata": {},
     "output_type": "execute_result"
    }
   ],
   "source": [
    "X_marginal = df.sum(axis=1)\n",
    "X_marginal"
   ]
  },
  {
   "cell_type": "code",
   "execution_count": 35,
   "metadata": {},
   "outputs": [
    {
     "data": {
      "text/html": [
       "<div>\n",
       "<style scoped>\n",
       "    .dataframe tbody tr th:only-of-type {\n",
       "        vertical-align: middle;\n",
       "    }\n",
       "\n",
       "    .dataframe tbody tr th {\n",
       "        vertical-align: top;\n",
       "    }\n",
       "\n",
       "    .dataframe thead th {\n",
       "        text-align: right;\n",
       "    }\n",
       "</style>\n",
       "<table border=\"1\" class=\"dataframe\">\n",
       "  <thead>\n",
       "    <tr style=\"text-align: right;\">\n",
       "      <th></th>\n",
       "      <th>0</th>\n",
       "      <th>1</th>\n",
       "      <th>2</th>\n",
       "    </tr>\n",
       "  </thead>\n",
       "  <tbody>\n",
       "    <tr>\n",
       "      <th>0</th>\n",
       "      <td>0.111111</td>\n",
       "      <td>0.111111</td>\n",
       "      <td>0.111111</td>\n",
       "    </tr>\n",
       "    <tr>\n",
       "      <th>1</th>\n",
       "      <td>0.111111</td>\n",
       "      <td>0.111111</td>\n",
       "      <td>0.111111</td>\n",
       "    </tr>\n",
       "    <tr>\n",
       "      <th>2</th>\n",
       "      <td>0.111111</td>\n",
       "      <td>0.111111</td>\n",
       "      <td>0.111111</td>\n",
       "    </tr>\n",
       "  </tbody>\n",
       "</table>\n",
       "</div>"
      ],
      "text/plain": [
       "          0         1         2\n",
       "0  0.111111  0.111111  0.111111\n",
       "1  0.111111  0.111111  0.111111\n",
       "2  0.111111  0.111111  0.111111"
      ]
     },
     "execution_count": 35,
     "metadata": {},
     "output_type": "execute_result"
    }
   ],
   "source": [
    "independent = pd.DataFrame([[x*y for x in X_marginal] for y in Y_marginal])\n",
    "independent"
   ]
  },
  {
   "cell_type": "markdown",
   "metadata": {},
   "source": [
    "## Problem 6"
   ]
  },
  {
   "cell_type": "markdown",
   "metadata": {},
   "source": [
    "\n",
    "|  X\\Y | Y = -1| Y = 1 |\n",
    "|---|---|---|\n",
    "|X = -1|  c | 0.5-c  |\n",
    "|X = 1|  0.5-c |  c |"
   ]
  },
  {
   "cell_type": "markdown",
   "metadata": {},
   "source": [
    "$\\mu_x = \\mu_y = 0$  \n",
    "$Var(x) = Var(y) = 2 \\cdot 0.5 \\cdot 1^2 = 1 $  \n",
    "$\\sigma_X=\\sigma_X=1$\n",
    "\n",
    "$Cov(X,Y) = E((X-\\mu_x)(Y-\\mu_y)) = \n",
    "c \\cdot (-1) \\cdot (-1) + \n",
    "c \\cdot (1) \\cdot (1) +\n",
    "(0.5 - c) \\cdot (1) \\cdot (-1) +\n",
    "(0.5 - c) \\cdot (-1) \\cdot (1) = c+c+c-0.5+c-0.5 = 4c-1$"
   ]
  },
  {
   "cell_type": "code",
   "execution_count": 3,
   "metadata": {},
   "outputs": [
    {
     "data": {
      "text/plain": [
       "-0.6"
      ]
     },
     "execution_count": 3,
     "metadata": {},
     "output_type": "execute_result"
    }
   ],
   "source": [
    "c = 0.1\n",
    "4*c-1"
   ]
  },
  {
   "cell_type": "markdown",
   "metadata": {},
   "source": [
    "$Cor(X,Y) = \\frac{Cov(X,Y)}{\\sigma_X \\sigma_Y} = 4c-1$"
   ]
  },
  {
   "cell_type": "code",
   "execution_count": 2,
   "metadata": {},
   "outputs": [
    {
     "data": {
      "text/plain": [
       "0.19999999999999996"
      ]
     },
     "execution_count": 2,
     "metadata": {},
     "output_type": "execute_result"
    }
   ],
   "source": [
    "c = 0.3\n",
    "4*c-1"
   ]
  },
  {
   "cell_type": "markdown",
   "metadata": {},
   "source": [
    "b)  \n",
    "for c=0.25 we have:\n",
    "\n",
    "|  X\\Y | Y = -1| Y = 1 |\n",
    "|---|---|---|\n",
    "|X = -1|  0.25 | 0.25  |\n",
    "|X = 1|  0.25 |  0.25 |\n",
    "\n",
    "So the variables are independet because $P(X,Y)=P(X)P(Y)$\n"
   ]
  },
  {
   "cell_type": "markdown",
   "metadata": {},
   "source": [
    "for\n",
    "$c = 0.5$\n",
    "we have:\n",
    "$4 \\cdot c-1 = 1$\n",
    "which means that the variables are fully correlated"
   ]
  },
  {
   "cell_type": "markdown",
   "metadata": {},
   "source": [
    "## Problem 7"
   ]
  },
  {
   "cell_type": "markdown",
   "metadata": {},
   "source": [
    "a)  \n",
    "$f(a,b) = 1/3600$  \n",
    "$F(a,b) = ab/3600$"
   ]
  },
  {
   "cell_type": "code",
   "execution_count": 4,
   "metadata": {},
   "outputs": [
    {
     "data": {
      "text/plain": [
       "0.2777777777777778"
      ]
     },
     "execution_count": 4,
     "metadata": {},
     "output_type": "execute_result"
    }
   ],
   "source": [
    "1000/3600"
   ]
  },
  {
   "cell_type": "code",
   "execution_count": 5,
   "metadata": {},
   "outputs": [
    {
     "data": {
      "text/plain": [
       "23.333333333333336"
      ]
     },
     "execution_count": 5,
     "metadata": {},
     "output_type": "execute_result"
    }
   ],
   "source": [
    "1000/3600*7*12"
   ]
  },
  {
   "cell_type": "markdown",
   "metadata": {},
   "source": [
    "b)  \n",
    "$F(30,60) = 30 \\cdot 60 / 3600 = 0.5$"
   ]
  },
  {
   "cell_type": "markdown",
   "metadata": {},
   "source": [
    "c)  \n",
    "**idea1**: $F(15,60) \\cdot (F(60,45)-F(60,30)) = 1/4 \\cdot (3/4 - 2/4) = 1/16$  \n",
    "**idea2**:   \n",
    "Alice arrives before 12:15  \n",
    "X X X X  \n",
    "\\_ _ _ _  \n",
    "\\_ _ _ _  \n",
    "\\_ _ _ _  \n",
    "\n",
    "Bob arrives between 12:30 and 12:45\n",
    "_ _ X _  \n",
    "_ _ X _  \n",
    "_ _ X _  \n",
    "_ _ X _  \n",
    "\n",
    "Intersection (1/16)  \n",
    "_ _ X _  \n",
    "\\_ _ _ _  \n",
    "\\_ _ _ _  \n",
    "\\_ _ _ _  \n",
    "\n",
    "\n",
    "\n"
   ]
  },
  {
   "cell_type": "markdown",
   "metadata": {},
   "source": [
    "d)  \n",
    "1 - 55*55/2/3600"
   ]
  },
  {
   "cell_type": "code",
   "execution_count": 7,
   "metadata": {},
   "outputs": [
    {
     "data": {
      "text/plain": [
       "0.5798611111111112"
      ]
     },
     "execution_count": 7,
     "metadata": {},
     "output_type": "execute_result"
    }
   ],
   "source": [
    "1 - 55*55/2/3600"
   ]
  },
  {
   "cell_type": "markdown",
   "metadata": {},
   "source": [
    "e)"
   ]
  },
  {
   "cell_type": "code",
   "execution_count": 8,
   "metadata": {},
   "outputs": [
    {
     "data": {
      "text/plain": [
       "0.4375"
      ]
     },
     "execution_count": 8,
     "metadata": {},
     "output_type": "execute_result"
    }
   ],
   "source": [
    "1 - 2*45*45/2/3600"
   ]
  },
  {
   "cell_type": "code",
   "execution_count": null,
   "metadata": {},
   "outputs": [],
   "source": []
  }
 ],
 "metadata": {
  "kernelspec": {
   "display_name": "Python 3",
   "language": "python",
   "name": "python3"
  },
  "language_info": {
   "codemirror_mode": {
    "name": "ipython",
    "version": 3
   },
   "file_extension": ".py",
   "mimetype": "text/x-python",
   "name": "python",
   "nbconvert_exporter": "python",
   "pygments_lexer": "ipython3",
   "version": "3.7.3"
  }
 },
 "nbformat": 4,
 "nbformat_minor": 4
}
