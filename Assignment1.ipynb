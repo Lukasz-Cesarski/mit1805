{
 "cells": [
  {
   "cell_type": "markdown",
   "metadata": {},
   "source": [
    "# Assignment 1\n",
    "\n",
    "https://ocw.mit.edu/courses/mathematics/18-05-introduction-to-probability-and-statistics-spring-2014/assignments/MIT18_05S14_ps1.pdf"
   ]
  },
  {
   "cell_type": "code",
   "execution_count": 1,
   "metadata": {},
   "outputs": [],
   "source": [
    "import math\n",
    "import numpy as np\n",
    "import random\n",
    "from collections import Counter\n",
    "from scipy.special import comb, perm"
   ]
  },
  {
   "cell_type": "markdown",
   "metadata": {},
   "source": [
    "## Problem 1"
   ]
  },
  {
   "cell_type": "code",
   "execution_count": 2,
   "metadata": {},
   "outputs": [],
   "source": [
    "num_colors = 4\n",
    "num_rank = 13\n",
    "num_cards = num_colors*num_rank"
   ]
  },
  {
   "cell_type": "code",
   "execution_count": 3,
   "metadata": {},
   "outputs": [
    {
     "data": {
      "text/plain": [
       "2598960.0"
      ]
     },
     "execution_count": 3,
     "metadata": {},
     "output_type": "execute_result"
    }
   ],
   "source": [
    "all_hands = comb(num_cards, 5)\n",
    "all_hands"
   ]
  },
  {
   "cell_type": "code",
   "execution_count": 4,
   "metadata": {},
   "outputs": [
    {
     "data": {
      "text/plain": [
       "123552.0"
      ]
     },
     "execution_count": 4,
     "metadata": {},
     "output_type": "execute_result"
    }
   ],
   "source": [
    "two_pair = comb(13,2) * comb(4,2) * comb(4,2) * comb(11,1) * comb(4,1)\n",
    "two_pair"
   ]
  },
  {
   "cell_type": "code",
   "execution_count": 5,
   "metadata": {},
   "outputs": [
    {
     "data": {
      "text/plain": [
       "0.0475390156062425"
      ]
     },
     "execution_count": 5,
     "metadata": {},
     "output_type": "execute_result"
    }
   ],
   "source": [
    "two_pair/all_hands"
   ]
  },
  {
   "cell_type": "code",
   "execution_count": 6,
   "metadata": {},
   "outputs": [
    {
     "data": {
      "text/plain": [
       "54912.0"
      ]
     },
     "execution_count": 6,
     "metadata": {},
     "output_type": "execute_result"
    }
   ],
   "source": [
    "three_of_a_kind = comb(13,1) * comb(4,3) * comb(12, 2) * comb(4,1) * comb(4,1)\n",
    "three_of_a_kind"
   ]
  },
  {
   "cell_type": "code",
   "execution_count": 7,
   "metadata": {},
   "outputs": [
    {
     "data": {
      "text/plain": [
       "0.02112845138055222"
      ]
     },
     "execution_count": 7,
     "metadata": {},
     "output_type": "execute_result"
    }
   ],
   "source": [
    "three_of_a_kind/all_hands"
   ]
  },
  {
   "cell_type": "markdown",
   "metadata": {},
   "source": [
    "## Problem 2"
   ]
  },
  {
   "cell_type": "code",
   "execution_count": 8,
   "metadata": {},
   "outputs": [],
   "source": [
    "red = (3,3,3,3,3,6)\n",
    "green = (1,4,4,4,4,4)\n",
    "white = (2,2,2,5,5,5)"
   ]
  },
  {
   "cell_type": "code",
   "execution_count": 9,
   "metadata": {},
   "outputs": [],
   "source": [
    "from itertools import product"
   ]
  },
  {
   "cell_type": "code",
   "execution_count": 10,
   "metadata": {},
   "outputs": [
    {
     "data": {
      "text/plain": [
       "0.5833333333333334"
      ]
     },
     "execution_count": 10,
     "metadata": {},
     "output_type": "execute_result"
    }
   ],
   "source": [
    "r_w = [r > w for r,w in product(red, white)]\n",
    "sum(r_w)/len(r_w)"
   ]
  },
  {
   "cell_type": "code",
   "execution_count": 11,
   "metadata": {},
   "outputs": [
    {
     "data": {
      "text/plain": [
       "0.5833333333333334"
      ]
     },
     "execution_count": 11,
     "metadata": {},
     "output_type": "execute_result"
    }
   ],
   "source": [
    "w_g = [w > g for w,g in product(white, green)]\n",
    "sum(w_g)/len(w_g)"
   ]
  },
  {
   "cell_type": "code",
   "execution_count": 12,
   "metadata": {},
   "outputs": [
    {
     "data": {
      "text/plain": [
       "0.6944444444444444"
      ]
     },
     "execution_count": 12,
     "metadata": {},
     "output_type": "execute_result"
    }
   ],
   "source": [
    "g_r = [g > r for g,r in product(green, red)]\n",
    "sum(g_r)/len(g_r)"
   ]
  },
  {
   "cell_type": "markdown",
   "metadata": {},
   "source": [
    "Can you line the dice up in order from best to worst?\n",
    "- No, we can't"
   ]
  },
  {
   "cell_type": "markdown",
   "metadata": {},
   "source": [
    "white vs red dice - double roll"
   ]
  },
  {
   "cell_type": "code",
   "execution_count": 13,
   "metadata": {},
   "outputs": [
    {
     "name": "stdout",
     "output_type": "stream",
     "text": [
      "Sum of the probablity 1.0\n",
      "Sum of the probablity 1.0\n"
     ]
    }
   ],
   "source": [
    "white_4 = 0.25\n",
    "white_7 = 0.5\n",
    "white_10 = 0.25\n",
    "white_double = [(4, white_4), (7, white_7), (10, white_10)]\n",
    "print(\"Sum of the probablity\", white_4 + white_7 + white_10)\n",
    "\n",
    "red_6 = 5/6 * 5/6\n",
    "red_9 = 5/6 * 1/6 * 2\n",
    "red_12 = 1/6 * 1/6\n",
    "red_double = [(6, red_6), (9, red_9), (12, red_12)]\n",
    "print(\"Sum of the probablity\", red_6 + red_9 + red_12)"
   ]
  },
  {
   "cell_type": "code",
   "execution_count": 14,
   "metadata": {},
   "outputs": [],
   "source": [
    "double_white_win = [\n",
    "    (white_val>red_val, white_prob*red_prob) \n",
    "    for (white_val, white_prob), (red_val, red_prob) in product(white_double, red_double)\n",
    "]"
   ]
  },
  {
   "cell_type": "code",
   "execution_count": 15,
   "metadata": {},
   "outputs": [
    {
     "data": {
      "text/plain": [
       "0.5902777777777778"
      ]
     },
     "execution_count": 15,
     "metadata": {},
     "output_type": "execute_result"
    }
   ],
   "source": [
    "# probablilty that double white beats double red\n",
    "sum([res*prob for res, prob in double_white_win])"
   ]
  },
  {
   "cell_type": "markdown",
   "metadata": {},
   "source": [
    "## Problem 3"
   ]
  },
  {
   "cell_type": "markdown",
   "metadata": {},
   "source": [
    "a) P(w) = 1/(365**w)"
   ]
  },
  {
   "cell_type": "markdown",
   "metadata": {},
   "source": [
    "c)  \n",
    "365^n -- all events  \n",
    "364^n -- events not containg your birthday  \n",
    "\n",
    "364^n/365^n -- probablility that the series does **not** contain your birthday\n",
    "\n",
    "1 - (364/365)^n -- probablity probablility that the series contain your birthday\n",
    "\n",
    "Excercise:  \n",
    "1 - (364/365)^n = 0.5\n",
    "\n",
    "(364/365)^n = 0.5\n",
    "\n",
    "n * ln(364/365) = ln(0.5)  \n",
    "n = ln(0.5)/ln(364/365)  "
   ]
  },
  {
   "cell_type": "code",
   "execution_count": 16,
   "metadata": {},
   "outputs": [
    {
     "data": {
      "text/plain": [
       "253"
      ]
     },
     "execution_count": 16,
     "metadata": {},
     "output_type": "execute_result"
    }
   ],
   "source": [
    "n = np.log(0.5)/np.log(364/365)\n",
    "# c) minimal amount of \n",
    "math.ceil(n)"
   ]
  },
  {
   "cell_type": "code",
   "execution_count": 17,
   "metadata": {},
   "outputs": [],
   "source": [
    "# e)\n",
    "def run_simulation_two(amount_of_simulations, n):\n",
    "    simulation = np.random.randint(1,366, size=(int(amount_of_simulations), n))\n",
    "    result = np.array([\n",
    "        len(np.unique(row)) != n for row in simulation\n",
    "    ]).mean()\n",
    "    return result"
   ]
  },
  {
   "cell_type": "code",
   "execution_count": 18,
   "metadata": {},
   "outputs": [
    {
     "data": {
      "text/plain": [
       "0.9035"
      ]
     },
     "execution_count": 18,
     "metadata": {},
     "output_type": "execute_result"
    }
   ],
   "source": [
    "run_simulation_two(10_000, 41)"
   ]
  },
  {
   "cell_type": "markdown",
   "metadata": {},
   "source": [
    "f)  \n",
    "1 - perm(365,n)/365^n"
   ]
  },
  {
   "cell_type": "code",
   "execution_count": 19,
   "metadata": {},
   "outputs": [],
   "source": [
    "def two_people_same(n):\n",
    "    return 1-perm(365, n)/365**n"
   ]
  },
  {
   "cell_type": "code",
   "execution_count": 20,
   "metadata": {},
   "outputs": [
    {
     "data": {
      "text/plain": [
       "0.02713557369979358"
      ]
     },
     "execution_count": 20,
     "metadata": {},
     "output_type": "execute_result"
    }
   ],
   "source": [
    "two_people_same(5)"
   ]
  },
  {
   "cell_type": "code",
   "execution_count": 21,
   "metadata": {},
   "outputs": [],
   "source": [
    "# g)\n",
    "def run_simulation_three(amount_of_simulations, n):\n",
    "    simulation = np.random.randint(1,366, size=(int(amount_of_simulations), n))\n",
    "    result = np.array([\n",
    "        max(Counter(row).values()) >= 3 for row in simulation\n",
    "    ]).mean()\n",
    "    return result"
   ]
  },
  {
   "cell_type": "code",
   "execution_count": 22,
   "metadata": {},
   "outputs": [
    {
     "data": {
      "text/plain": [
       "0.4944"
      ]
     },
     "execution_count": 22,
     "metadata": {},
     "output_type": "execute_result"
    }
   ],
   "source": [
    "run_simulation_three(10_000, 87)"
   ]
  },
  {
   "cell_type": "code",
   "execution_count": null,
   "metadata": {},
   "outputs": [],
   "source": []
  }
 ],
 "metadata": {
  "kernelspec": {
   "display_name": "Python 3",
   "language": "python",
   "name": "python3"
  },
  "language_info": {
   "codemirror_mode": {
    "name": "ipython",
    "version": 3
   },
   "file_extension": ".py",
   "mimetype": "text/x-python",
   "name": "python",
   "nbconvert_exporter": "python",
   "pygments_lexer": "ipython3",
   "version": "3.6.9"
  }
 },
 "nbformat": 4,
 "nbformat_minor": 4
}
