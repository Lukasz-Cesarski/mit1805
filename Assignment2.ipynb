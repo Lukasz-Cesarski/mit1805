{
 "cells": [
  {
   "cell_type": "markdown",
   "metadata": {},
   "source": [
    "# Assignment 2\n",
    "\n",
    "https://ocw.mit.edu/courses/mathematics/18-05-introduction-to-probability-and-statistics-spring-2014/assignments/MIT18_05S14_ps2.pdf"
   ]
  },
  {
   "cell_type": "code",
   "execution_count": 25,
   "metadata": {},
   "outputs": [],
   "source": [
    "import numpy as np\n",
    "import matplotlib.pyplot as plt"
   ]
  },
  {
   "cell_type": "markdown",
   "metadata": {},
   "source": [
    "## Problem 1"
   ]
  },
  {
   "cell_type": "markdown",
   "metadata": {},
   "source": [
    "a)  0.5\n",
    "\n",
    "| HYPOTHESIS   | PRIOR |  LIKELIHOOD | MULTIPLIER | POSTERIOR |\n",
    "|:----------|-------------:|------:|------:|------:|\n",
    "| 1=G 2=B |  0.25 | 1.0 | 0.25 | 0.50 |\n",
    "| 1=G 2=G |  0.25 | 1.0 | 0.25 | **0.50** |\n",
    "| 1=B 2=B |  0.25 | 0.0 | 0.00 | 0.00 |\n",
    "| 1=B 2=G |  0.25 | 0.0 | 0.00 | 0.00 |\n",
    "\n",
    "\n",
    "b)  0.33\n",
    "\n",
    "| HYPOTHESIS   | PRIOR |  LIKELIHOOD | MULTIPLIER | POSTERIOR |\n",
    "|:----------|-------------:|------:|------:|------:|\n",
    "| 1=G 2=B |  0.25 | 1.0 | 0.25 | 0.33 |\n",
    "| 1=G 2=G |  0.25 | 0.0 | 0.00 | 0.00 |\n",
    "| 1=B 2=B |  0.25 | 1.0 | 0.25 | **0.33** |\n",
    "| 1=B 2=G |  0.25 | 1.0 | 0.25 | 0.33 |"
   ]
  },
  {
   "cell_type": "markdown",
   "metadata": {},
   "source": [
    "## Problem 2"
   ]
  },
  {
   "cell_type": "markdown",
   "metadata": {},
   "source": [
    "P(C=B) = 0.01 # probablity that the **C**ar was recogized as color **B**lue  \n",
    "P(C=G) = 0.99  \n",
    "\n",
    "P(S=B|C=B) = 0.99  \n",
    "P(S=B|C=G) = 0.02  \n",
    "\n",
    "P(C=B|S=B)=????\n",
    "\n",
    "\n",
    "P(H|D) = P(D|H)*P(H)/P(D)\n",
    "\n",
    "\n",
    "| HYPOTHESIS   | PRIOR |  LIKELIHOOD | MULTIPLIER | POSTERIOR |\n",
    "|:----------|-------------:|------:|------:|------:|\n",
    "| C=B |  0.01 | 0.99 | 0.0099 | **0.333** |\n",
    "| C=G |  0.99 | 0.02 | 0.0198 | 0.666 |\n",
    "\n"
   ]
  },
  {
   "cell_type": "markdown",
   "metadata": {},
   "source": [
    "## Problem 3"
   ]
  },
  {
   "cell_type": "markdown",
   "metadata": {},
   "source": [
    "### first draw\n",
    "P(F=1) = 0.5 # probalility that the **F**irst card is 1  \n",
    "P(F=2) = 0.5 # probalility that the **F**irst card is 1  \n",
    "\n",
    "### second draw\n",
    "P(S=1|F=1) = 3/7  # end  \n",
    "P(S=2|F=1) = 4/7  # end  \n",
    "\n",
    "P(S=1|F=2) = 4/7 # continue  \n",
    "P(S=2|F=2) = 3/7 # continue  \n",
    "\n",
    "### third draw\n",
    "P(T=1|S=1,F=2) = 3/6 # end  \n",
    "P(T=2|S=1,F=2) = 3/6 # end  \n",
    "\n",
    "P(T=1|S=2,F=2) = 4/6 # end  \n",
    "P(T=2|S=2,F=2) = 2/6 # end  \n",
    "\n",
    "\n",
    "| EVENT   | JOINT PROB |  X | MULTIPLIER | \n",
    "|:----------|-------------:|------:|------:|\n",
    "| P(S=1,F=1) |  0.5*3/7 | 2 | 0.42857142857142855 |\n",
    "| P(S=2,F=1) |  0.5*4/7 | 3 | 0.8571428571428571 |\n",
    "| P(T=1,S=1,F=2) |  0.5\\*4/7\\*0.5 | 4 | 0.5714285714285714 |\n",
    "| P(T=2,S=1,F=2) | 0.5\\*4/7\\*0.5 | 5 | 0.7142857142857142 |\n",
    "| P(T=1,S=2,F=2) | 0.5\\*3/7\\*4/6 | 5 | 0.7142857142857142 |\n",
    "| P(T=2,S=2,F=2) | 0.5\\*3/7\\*2/6 | 6 | 0.42857142857142855 |\n"
   ]
  },
  {
   "cell_type": "code",
   "execution_count": 21,
   "metadata": {},
   "outputs": [
    {
     "data": {
      "text/plain": [
       "0.9999999999999998"
      ]
     },
     "execution_count": 21,
     "metadata": {},
     "output_type": "execute_result"
    }
   ],
   "source": [
    "# check probablity\n",
    "0.5*3/7 + 0.5*4/7 + 0.5*4/7*0.5 + 0.5*4/7*0.5 + 0.5*3/7*4/6 + 0.5*3/7*2/6"
   ]
  },
  {
   "cell_type": "code",
   "execution_count": 22,
   "metadata": {},
   "outputs": [
    {
     "data": {
      "text/plain": [
       "3.714285714285714"
      ]
     },
     "execution_count": 22,
     "metadata": {},
     "output_type": "execute_result"
    }
   ],
   "source": [
    "# calculate E(X)\n",
    "0.42857142857142855 + 0.8571428571428571 + 0.5714285714285714 + 0.7142857142857142 + 0.7142857142857142 + 0.42857142857142855 "
   ]
  },
  {
   "cell_type": "markdown",
   "metadata": {},
   "source": [
    "## Problem 4"
   ]
  },
  {
   "cell_type": "code",
   "execution_count": 24,
   "metadata": {},
   "outputs": [
    {
     "data": {
      "text/plain": [
       "array([0.25, 0.25, 0.5 ])"
      ]
     },
     "execution_count": 24,
     "metadata": {},
     "output_type": "execute_result"
    }
   ],
   "source": [
    "x = np.array([4,6,8])\n",
    "p = np.array([1,1,2])\n",
    "p = p/p.sum()\n",
    "p"
   ]
  },
  {
   "cell_type": "code",
   "execution_count": 36,
   "metadata": {},
   "outputs": [
    {
     "data": {
      "text/plain": [
       "Text(0.5, 0, 'X')"
      ]
     },
     "execution_count": 36,
     "metadata": {},
     "output_type": "execute_result"
    },
    {
     "data": {
      "image/png": "[encoded data removed]",
      "text/plain": [
       "<Figure size 432x288 with 1 Axes>"
      ]
     },
     "metadata": {
      "needs_background": "light"
     },
     "output_type": "display_data"
    }
   ],
   "source": [
    "plt.scatter(x, p)\n",
    "plt.ylim(bottom=0, top=1)\n",
    "plt.ylabel(\"probablity\")\n",
    "plt.xlabel(\"X\")"
   ]
  },
  {
   "cell_type": "code",
   "execution_count": 39,
   "metadata": {},
   "outputs": [
    {
     "data": {
      "text/plain": [
       "array([0.25, 0.25, 0.5 ])"
      ]
     },
     "execution_count": 39,
     "metadata": {},
     "output_type": "execute_result"
    }
   ],
   "source": [
    "prior = p\n",
    "prior"
   ]
  },
  {
   "cell_type": "code",
   "execution_count": 38,
   "metadata": {},
   "outputs": [
    {
     "data": {
      "text/plain": [
       "array([0.25      , 0.16666667, 0.125     ])"
      ]
     },
     "execution_count": 38,
     "metadata": {},
     "output_type": "execute_result"
    }
   ],
   "source": [
    "likelihood= 1/x\n",
    "likelihood"
   ]
  },
  {
   "cell_type": "code",
   "execution_count": 40,
   "metadata": {},
   "outputs": [
    {
     "data": {
      "text/plain": [
       "array([0.0625    , 0.04166667, 0.0625    ])"
      ]
     },
     "execution_count": 40,
     "metadata": {},
     "output_type": "execute_result"
    }
   ],
   "source": [
    "multiplier = prior * likelihood\n",
    "multiplier"
   ]
  },
  {
   "cell_type": "code",
   "execution_count": 42,
   "metadata": {},
   "outputs": [
    {
     "data": {
      "text/plain": [
       "array([0.375, 0.25 , 0.375])"
      ]
     },
     "execution_count": 42,
     "metadata": {},
     "output_type": "execute_result"
    }
   ],
   "source": [
    "posterior = multiplier/multiplier.sum()\n",
    "posterior"
   ]
  },
  {
   "cell_type": "markdown",
   "metadata": {},
   "source": [
    "b) 4-side and 8-side dices are most likely with probablity equals to 0.375  \n",
    "c) 8 side dice will be most likely, because 4 dice is now impossible and prob(8-dice) > prob (6-dice) no matter if R=3 or R=6  \n",
    "d) 8-dice is the only possible one  \n"
   ]
  },
  {
   "cell_type": "markdown",
   "metadata": {},
   "source": [
    "## Problem 5"
   ]
  },
  {
   "cell_type": "code",
   "execution_count": 55,
   "metadata": {},
   "outputs": [],
   "source": [
    "from itertools import groupby"
   ]
  },
  {
   "cell_type": "code",
   "execution_count": 58,
   "metadata": {},
   "outputs": [
    {
     "name": "stdout",
     "output_type": "stream",
     "text": [
      "1 [1, 1]\n",
      "0 [0, 0]\n",
      "1 [1]\n",
      "0 [0, 0, 0, 0]\n",
      "1 [1, 1]\n"
     ]
    }
   ],
   "source": [
    "for a, b in groupby([1,1,0,0,1,0,0,0,0,1,1]):\n",
    "    print(a,list(b))"
   ]
  },
  {
   "cell_type": "code",
   "execution_count": 63,
   "metadata": {},
   "outputs": [],
   "source": [
    "def simulate_max_len(trials, tosses):\n",
    "    row_max_lengths = []\n",
    "    for row in np.random.randint(0,2, size=(int(trials),tosses)):\n",
    "        max_len = 0\n",
    "        for value, sequence in groupby(row):\n",
    "            max_len = max(max_len, len(list(sequence)))\n",
    "        row_max_lengths.append(max_len)\n",
    "    return np.array(row_max_lengths).mean()"
   ]
  },
  {
   "cell_type": "code",
   "execution_count": 68,
   "metadata": {},
   "outputs": [
    {
     "data": {
      "text/plain": [
       "5.9648"
      ]
     },
     "execution_count": 68,
     "metadata": {},
     "output_type": "execute_result"
    }
   ],
   "source": [
    "# c) answer\n",
    "simulate_max_len(10_000, 50)"
   ]
  },
  {
   "cell_type": "code",
   "execution_count": 69,
   "metadata": {},
   "outputs": [],
   "source": [
    "def simulate_max_len_threshold(trials, tosses, threshold):\n",
    "    row_max_lengths = []\n",
    "    for row in np.random.randint(0,2, size=(int(trials),tosses)):\n",
    "        max_len = 0\n",
    "        for value, sequence in groupby(row):\n",
    "            max_len = max(max_len, len(list(sequence)))\n",
    "        if max_len >= threshold:\n",
    "            row_max_lengths.append(1)\n",
    "        else:\n",
    "            row_max_lengths.append(0)\n",
    "    return np.array(row_max_lengths).mean()"
   ]
  },
  {
   "cell_type": "code",
   "execution_count": 71,
   "metadata": {},
   "outputs": [
    {
     "data": {
      "text/plain": [
       "0.1622"
      ]
     },
     "execution_count": 71,
     "metadata": {},
     "output_type": "execute_result"
    }
   ],
   "source": [
    "# d) answer\n",
    "simulate_max_len_threshold(10_000, 50, 8)"
   ]
  },
  {
   "cell_type": "code",
   "execution_count": null,
   "metadata": {},
   "outputs": [],
   "source": []
  }
 ],
 "metadata": {
  "kernelspec": {
   "display_name": "Python 3",
   "language": "python",
   "name": "python3"
  },
  "language_info": {
   "codemirror_mode": {
    "name": "ipython",
    "version": 3
   },
   "file_extension": ".py",
   "mimetype": "text/x-python",
   "name": "python",
   "nbconvert_exporter": "python",
   "pygments_lexer": "ipython3",
   "version": "3.7.3"
  }
 },
 "nbformat": 4,
 "nbformat_minor": 4
}
