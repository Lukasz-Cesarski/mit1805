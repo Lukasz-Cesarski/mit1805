{
 "cells": [
  {
   "cell_type": "markdown",
   "metadata": {},
   "source": [
    "# Assignment 7\n",
    "\n",
    "https://ocw.mit.edu/courses/mathematics/18-05-introduction-to-probability-and-statistics-spring-2014/assignments/MIT18_05S14_ps6.pdf"
   ]
  },
  {
   "cell_type": "markdown",
   "metadata": {},
   "source": [
    "## Problem 1"
   ]
  },
  {
   "cell_type": "markdown",
   "metadata": {},
   "source": [
    "a)\n",
    "binomial:\n",
    "$f(k) = \\binom{n}{k} p^k (1-p)^{n-k}$"
   ]
  },
  {
   "cell_type": "code",
   "execution_count": 1,
   "metadata": {},
   "outputs": [],
   "source": [
    "import numpy as np\n",
    "import pandas as pd\n",
    "import matplotlib.pyplot as plt\n",
    "from scipy.stats import binom"
   ]
  },
  {
   "cell_type": "code",
   "execution_count": 2,
   "metadata": {},
   "outputs": [],
   "source": [
    "times = 250\n",
    "heads = 140\n",
    "tails = 110\n",
    "theta = 0.5\n",
    "p_value = 0.07"
   ]
  },
  {
   "cell_type": "code",
   "execution_count": 3,
   "metadata": {},
   "outputs": [],
   "source": [
    "k = np.arange(0, times+1)\n",
    "pmf = binom.pmf(k, times, theta)\n",
    "cdf = binom.cdf(k, times, theta)"
   ]
  },
  {
   "cell_type": "code",
   "execution_count": 4,
   "metadata": {},
   "outputs": [
    {
     "data": {
      "text/plain": [
       "<matplotlib.collections.PathCollection at 0x1e461450f28>"
      ]
     },
     "execution_count": 4,
     "metadata": {},
     "output_type": "execute_result"
    },
    {
     "data": {
      "image/png": "[encoded data removed]",
      "text/plain": [
       "<Figure size 720x432 with 1 Axes>"
      ]
     },
     "metadata": {
      "needs_background": "light"
     },
     "output_type": "display_data"
    }
   ],
   "source": [
    "fig, ax = plt.subplots(1, 1, figsize = (10,6))\n",
    "ax.scatter(k, pmf)"
   ]
  },
  {
   "cell_type": "code",
   "execution_count": 5,
   "metadata": {},
   "outputs": [
    {
     "data": {
      "text/plain": [
       "<matplotlib.collections.PathCollection at 0x1e4614c2470>"
      ]
     },
     "execution_count": 5,
     "metadata": {},
     "output_type": "execute_result"
    },
    {
     "data": {
      "image/png": "[encoded data removed]",
      "text/plain": [
       "<Figure size 720x432 with 1 Axes>"
      ]
     },
     "metadata": {
      "needs_background": "light"
     },
     "output_type": "display_data"
    }
   ],
   "source": [
    "fig, ax = plt.subplots(1, 1, figsize = (10,6))\n",
    "ax.scatter(k, cdf)"
   ]
  },
  {
   "cell_type": "code",
   "execution_count": 6,
   "metadata": {},
   "outputs": [
    {
     "data": {
      "text/plain": [
       "0.9667894243799757"
      ]
     },
     "execution_count": 6,
     "metadata": {},
     "output_type": "execute_result"
    }
   ],
   "source": [
    "cdf_140 = binom.cdf(heads-1, times, theta)\n",
    "cdf_140"
   ]
  },
  {
   "cell_type": "code",
   "execution_count": 7,
   "metadata": {},
   "outputs": [
    {
     "data": {
      "text/plain": [
       "0.033210575620024274"
      ]
     },
     "execution_count": 7,
     "metadata": {},
     "output_type": "execute_result"
    }
   ],
   "source": [
    "p_value_one_sided = 1 - cdf_140\n",
    "p_value_one_sided"
   ]
  },
  {
   "cell_type": "code",
   "execution_count": 8,
   "metadata": {},
   "outputs": [
    {
     "name": "stdout",
     "output_type": "stream",
     "text": [
      "0.06642115124004855\n",
      "two sided p_value is approximately 7%\n"
     ]
    }
   ],
   "source": [
    "p_value_two_sided = 2*p_value_one_sided\n",
    "print(p_value_two_sided)\n",
    "print(\"two sided p_value is approximately 7%\")"
   ]
  },
  {
   "cell_type": "markdown",
   "metadata": {},
   "source": [
    "b)"
   ]
  },
  {
   "cell_type": "code",
   "execution_count": 9,
   "metadata": {},
   "outputs": [
    {
     "name": "stdout",
     "output_type": "stream",
     "text": [
      "For alpha = 0.1: Hypothesis H0 should be rejected!\n"
     ]
    }
   ],
   "source": [
    "# significance level alpha\n",
    "alpha = 0.1\n",
    "if p_value_two_sided < alpha:\n",
    "    print(f\"For alpha = {alpha}: Hypothesis H0 should be rejected!\")\n",
    "else:\n",
    "    print(f\"For alpha = {alpha}: Provided data are not sufficient to reject H0\")"
   ]
  },
  {
   "cell_type": "code",
   "execution_count": 10,
   "metadata": {},
   "outputs": [
    {
     "name": "stdout",
     "output_type": "stream",
     "text": [
      "For alpha = 0.05: Provided data are not sufficient to reject H0\n"
     ]
    }
   ],
   "source": [
    "alpha = 0.05\n",
    "if p_value_two_sided < alpha:\n",
    "    print(f\"For alpha = {alpha}: Hypothesis H0 should be rejected!\")\n",
    "else:\n",
    "    print(f\"For alpha = {alpha}: Provided data are not sufficient to reject H0\")"
   ]
  },
  {
   "cell_type": "markdown",
   "metadata": {},
   "source": [
    "c)"
   ]
  },
  {
   "cell_type": "code",
   "execution_count": 11,
   "metadata": {},
   "outputs": [
    {
     "name": "stdout",
     "output_type": "stream",
     "text": [
      "Critical value left = 104.0, corresponding cdf 0.004687585164863969\n",
      "Critical value right = 146.0, corresponding cdf 0.003211012304069838\n"
     ]
    }
   ],
   "source": [
    "alpha = 0.01\n",
    "critical_value_left = binom.ppf(alpha/2, times, theta)-1\n",
    "print(f\"Critical value left = {critical_value_left}, corresponding cdf {binom.cdf(critical_value_left, times, theta)}\")\n",
    "critical_value_right = binom.ppf(1 - alpha/2, times, theta)+1\n",
    "print(f\"Critical value right = {critical_value_right}, corresponding cdf {1-binom.cdf(critical_value_right, times, theta)}\")"
   ]
  },
  {
   "cell_type": "markdown",
   "metadata": {},
   "source": [
    "d)"
   ]
  },
  {
   "cell_type": "code",
   "execution_count": 12,
   "metadata": {},
   "outputs": [],
   "source": [
    "alpha = 0.05\n",
    "theta_h_a1 = 0.55\n",
    "theta_h_a2 = 0.6"
   ]
  },
  {
   "cell_type": "code",
   "execution_count": 13,
   "metadata": {},
   "outputs": [
    {
     "name": "stdout",
     "output_type": "stream",
     "text": [
      "Critical value left = 109.0, corresponding cdf 0.02485339389510076\n",
      "Critical value right = 141.0, corresponding cdf 0.018333606733820007\n"
     ]
    }
   ],
   "source": [
    "critical_value_left = binom.ppf(alpha/2, times, theta)-1\n",
    "print(f\"Critical value left = {critical_value_left}, corresponding cdf {binom.cdf(critical_value_left, times, theta)}\")\n",
    "critical_value_right = binom.ppf(1 - alpha/2, times, theta)+1\n",
    "print(f\"Critical value right = {critical_value_right}, corresponding cdf {1-binom.cdf(critical_value_right, times, theta)}\")"
   ]
  },
  {
   "cell_type": "code",
   "execution_count": 14,
   "metadata": {},
   "outputs": [
    {
     "data": {
      "text/plain": [
       "0.35236671972589906"
      ]
     },
     "execution_count": 14,
     "metadata": {},
     "output_type": "execute_result"
    }
   ],
   "source": [
    "power_h_a1 = binom.cdf(critical_value_left, times, theta_h_a1) + 1 - binom.cdf(critical_value_right-1, times, theta_h_a1)\n",
    "power_h_a1"
   ]
  },
  {
   "cell_type": "code",
   "execution_count": 15,
   "metadata": {},
   "outputs": [
    {
     "data": {
      "text/plain": [
       "0.8896251002901934"
      ]
     },
     "execution_count": 15,
     "metadata": {},
     "output_type": "execute_result"
    }
   ],
   "source": [
    "power_h_a2 = binom.cdf(critical_value_left, times, theta_h_a2) + 1 - binom.cdf(critical_value_right-1, times, theta_h_a2)\n",
    "power_h_a2"
   ]
  },
  {
   "cell_type": "code",
   "execution_count": 16,
   "metadata": {},
   "outputs": [
    {
     "data": {
      "image/png": "[encoded data removed]",
      "text/plain": [
       "<Figure size 720x432 with 1 Axes>"
      ]
     },
     "metadata": {
      "needs_background": "light"
     },
     "output_type": "display_data"
    }
   ],
   "source": [
    "k = np.arange(0, times+1)\n",
    "pmf_h0 = binom.pmf(k, times, theta)\n",
    "pmf_h_a1 = binom.pmf(k, times, theta_h_a1)\n",
    "pmf_h_a2 = binom.pmf(k, times, theta_h_a2)\n",
    "\n",
    "fig, ax = plt.subplots(1, 1, figsize = (10,6))\n",
    "ax.scatter(k, pmf_h0, label = f\"H0 theta={theta}\")\n",
    "ax.scatter(k, pmf_h_a1, label = f\"Ha1 theta={theta_h_a1}\")\n",
    "ax.scatter(k, pmf_h_a2, label = f\"Ha2 theta={theta_h_a2}\")\n",
    "ax.vlines([critical_value_left, critical_value_right], ymin=0, ymax=0.06)\n",
    "d = 70\n",
    "ax.set_xlim(times/2 - d, times/2+d)\n",
    "ax.legend();"
   ]
  },
  {
   "cell_type": "markdown",
   "metadata": {},
   "source": [
    "e)"
   ]
  },
  {
   "cell_type": "code",
   "execution_count": 17,
   "metadata": {},
   "outputs": [
    {
     "name": "stdout",
     "output_type": "stream",
     "text": [
      "Critical value left = 495.0, corresponding cdf 0.024370740432048083\n",
      "Critical value right = 560.0, corresponding cdf 0.021052811045858544\n",
      "Power of test: 0.9003444391246991\n"
     ]
    }
   ],
   "source": [
    "alpha = 0.05\n",
    "times = 1055\n",
    "theta_a = 0.55\n",
    "\n",
    "critical_value_left = binom.ppf(alpha/2, times, theta)-1\n",
    "print(f\"Critical value left = {critical_value_left}, corresponding cdf {binom.cdf(critical_value_left, times, theta)}\")\n",
    "critical_value_right = binom.ppf(1 - alpha/2, times, theta)+1\n",
    "print(f\"Critical value right = {critical_value_right}, corresponding cdf {1-binom.cdf(critical_value_right, times, theta)}\")\n",
    "power_h_a = binom.cdf(critical_value_left, times, theta_a) + 1 - binom.cdf(critical_value_right-1, times, theta_a)\n",
    "print(f\"Power of test: {power_h_a}\")"
   ]
  },
  {
   "cell_type": "code",
   "execution_count": 18,
   "metadata": {},
   "outputs": [
    {
     "data": {
      "image/png": "[encoded data removed]",
      "text/plain": [
       "<Figure size 720x432 with 1 Axes>"
      ]
     },
     "metadata": {
      "needs_background": "light"
     },
     "output_type": "display_data"
    }
   ],
   "source": [
    "k = np.arange(0, times+1)\n",
    "pmf_h0 = binom.pmf(k, times, theta)\n",
    "pmf_h_a = binom.pmf(k, times, theta_a)\n",
    "\n",
    "fig, ax = plt.subplots(1, 1, figsize = (10,6))\n",
    "ax.scatter(k, pmf_h0, label = f\"H0 theta={theta}\")\n",
    "ax.scatter(k, pmf_h_a, label = f\"Ha1 theta={theta_a}\")\n",
    "ax.vlines([critical_value_left, critical_value_right], ymin=0, ymax=0.06)\n",
    "d = 70\n",
    "ax.set_xlim(times/2 - d, times/2+d+50)\n",
    "ax.legend();"
   ]
  },
  {
   "cell_type": "markdown",
   "metadata": {},
   "source": [
    "f)\n",
    "\n",
    "| H |prior P(H)| likelihood P(D\\|H) | Bayes num | Posterior |\n",
    "|---|---|---|---|---|\n",
    "| H0: theta = 0.50 | 0.5  | 0.5^140 \\* (1-0.5)^110 = 0.5^250  | 0.5 \\* 0.5^140 \\* (1-0.5)^110 |  0.14757251646199435 |\n",
    "| H1: theta = 0.55  | 0.5  | 0.55^140 \\* (1-0.55)^110  | 0.5 \\* 0.55^140 \\* (1-0.55)^110 |0.8524274835380057  |"
   ]
  },
  {
   "cell_type": "code",
   "execution_count": 19,
   "metadata": {},
   "outputs": [],
   "source": [
    "c = 0.5*0.5**250 + 0.5*0.55**140*0.45**110"
   ]
  },
  {
   "cell_type": "code",
   "execution_count": 20,
   "metadata": {},
   "outputs": [
    {
     "data": {
      "text/plain": [
       "0.14757251646199435"
      ]
     },
     "execution_count": 20,
     "metadata": {},
     "output_type": "execute_result"
    }
   ],
   "source": [
    "0.5*0.5**250/c"
   ]
  },
  {
   "cell_type": "code",
   "execution_count": 21,
   "metadata": {},
   "outputs": [
    {
     "data": {
      "text/plain": [
       "0.8524274835380057"
      ]
     },
     "execution_count": 21,
     "metadata": {},
     "output_type": "execute_result"
    }
   ],
   "source": [
    "0.5*0.55**140*0.45**110/c"
   ]
  },
  {
   "cell_type": "markdown",
   "metadata": {},
   "source": [
    "## Problem 2\n",
    "\n",
    "| _ |Testee is truthful| Testee is lying |\n",
    "|---|---|---|\n",
    "| Tester thinks testee is truthful| 131 | 15  | \n",
    "|Tester thinks tested is lying | 9 | 125  | "
   ]
  },
  {
   "cell_type": "markdown",
   "metadata": {},
   "source": [
    "a)"
   ]
  },
  {
   "cell_type": "code",
   "execution_count": 22,
   "metadata": {},
   "outputs": [
    {
     "data": {
      "text/plain": [
       "0.06428571428571428"
      ]
     },
     "execution_count": 22,
     "metadata": {},
     "output_type": "execute_result"
    }
   ],
   "source": [
    "error_type_1 = 9/140\n",
    "error_type_1"
   ]
  },
  {
   "cell_type": "code",
   "execution_count": 23,
   "metadata": {},
   "outputs": [
    {
     "data": {
      "text/plain": [
       "0.10714285714285714"
      ]
     },
     "execution_count": 23,
     "metadata": {},
     "output_type": "execute_result"
    }
   ],
   "source": [
    "error_type_2 = 15/140\n",
    "error_type_2"
   ]
  },
  {
   "cell_type": "markdown",
   "metadata": {},
   "source": [
    "b)  \n",
    "significance level = P(type I error)  \n",
    "power = 1 - P(type II error)  "
   ]
  },
  {
   "cell_type": "markdown",
   "metadata": {},
   "source": [
    "## Problem 3"
   ]
  },
  {
   "cell_type": "code",
   "execution_count": 24,
   "metadata": {},
   "outputs": [],
   "source": [
    "h0_mean = 10\n",
    "alpha = 0.05\n",
    "n = 16\n",
    "sample_mean = 11\n",
    "sample_variance = 4"
   ]
  },
  {
   "cell_type": "code",
   "execution_count": 25,
   "metadata": {},
   "outputs": [
    {
     "data": {
      "text/plain": [
       "2.0"
      ]
     },
     "execution_count": 25,
     "metadata": {},
     "output_type": "execute_result"
    }
   ],
   "source": [
    "test_statistic = (sample_mean - h0_mean)/(sample_variance**0.5/n**0.5)\n",
    "test_statistic"
   ]
  },
  {
   "cell_type": "code",
   "execution_count": 26,
   "metadata": {},
   "outputs": [],
   "source": [
    "from scipy.stats import t"
   ]
  },
  {
   "cell_type": "markdown",
   "metadata": {},
   "source": [
    "a)"
   ]
  },
  {
   "cell_type": "code",
   "execution_count": 27,
   "metadata": {},
   "outputs": [
    {
     "data": {
      "text/plain": [
       "0.06394500728472008"
      ]
     },
     "execution_count": 27,
     "metadata": {},
     "output_type": "execute_result"
    }
   ],
   "source": [
    "p_value_two_sided = 2*(1 - t.cdf(test_statistic, n-1))\n",
    "p_value_two_sided"
   ]
  },
  {
   "cell_type": "code",
   "execution_count": 28,
   "metadata": {},
   "outputs": [
    {
     "name": "stdout",
     "output_type": "stream",
     "text": [
      "For alpha = 0.05: Provided data are not sufficient to reject H0\n"
     ]
    }
   ],
   "source": [
    "if p_value_two_sided < alpha:\n",
    "    print(f\"For alpha = {alpha}: Hypothesis H0 should be rejected!\")\n",
    "else:\n",
    "    print(f\"For alpha = {alpha}: Provided data are not sufficient to reject H0\")"
   ]
  },
  {
   "cell_type": "markdown",
   "metadata": {},
   "source": [
    "b)"
   ]
  },
  {
   "cell_type": "code",
   "execution_count": 29,
   "metadata": {},
   "outputs": [
    {
     "data": {
      "text/plain": [
       "0.03197250364236004"
      ]
     },
     "execution_count": 29,
     "metadata": {},
     "output_type": "execute_result"
    }
   ],
   "source": [
    "p_value_one_sided = 1 - t.cdf(test_statistic, n-1)\n",
    "p_value_one_sided"
   ]
  },
  {
   "cell_type": "code",
   "execution_count": 30,
   "metadata": {},
   "outputs": [
    {
     "name": "stdout",
     "output_type": "stream",
     "text": [
      "For alpha = 0.05: Hypothesis H0 should be rejected!\n"
     ]
    }
   ],
   "source": [
    "if p_value_one_sided < alpha:\n",
    "    print(f\"For alpha = {alpha}: Hypothesis H0 should be rejected!\")\n",
    "else:\n",
    "    print(f\"For alpha = {alpha}: Provided data are not sufficient to reject H0\")"
   ]
  },
  {
   "cell_type": "markdown",
   "metadata": {},
   "source": [
    "## Problem 4"
   ]
  },
  {
   "cell_type": "markdown",
   "metadata": {},
   "source": [
    "a)  \n",
    "H0: Measurement is lower than 40  \n",
    "HA: Measurement is higher than 40  \n",
    "b)  \n"
   ]
  },
  {
   "cell_type": "code",
   "execution_count": 31,
   "metadata": {},
   "outputs": [],
   "source": [
    "alpha = 0.04\n",
    "std = 5\n",
    "mu = 40\n",
    "n = 3"
   ]
  },
  {
   "cell_type": "code",
   "execution_count": 32,
   "metadata": {},
   "outputs": [],
   "source": [
    "from scipy.stats import norm"
   ]
  },
  {
   "cell_type": "code",
   "execution_count": 33,
   "metadata": {},
   "outputs": [
    {
     "data": {
      "text/plain": [
       "1.7320508075688772"
      ]
     },
     "execution_count": 33,
     "metadata": {},
     "output_type": "execute_result"
    }
   ],
   "source": [
    "speed_threshold = 45.0\n",
    "test_statistic = (speed_threshold - mu)/(std/n**0.5)\n",
    "test_statistic"
   ]
  },
  {
   "cell_type": "code",
   "execution_count": 34,
   "metadata": {},
   "outputs": [
    {
     "data": {
      "text/plain": [
       "0.041632258331775196"
      ]
     },
     "execution_count": 34,
     "metadata": {},
     "output_type": "execute_result"
    }
   ],
   "source": [
    "one_side_p_value = 1-norm.cdf(test_statistic)\n",
    "one_side_p_value"
   ]
  },
  {
   "cell_type": "code",
   "execution_count": 35,
   "metadata": {},
   "outputs": [
    {
     "data": {
      "text/plain": [
       "<matplotlib.collections.PolyCollection at 0x1e4626337b8>"
      ]
     },
     "execution_count": 35,
     "metadata": {},
     "output_type": "execute_result"
    },
    {
     "data": {
      "image/png": "[encoded data removed]",
      "text/plain": [
       "<Figure size 720x432 with 1 Axes>"
      ]
     },
     "metadata": {
      "needs_background": "light"
     },
     "output_type": "display_data"
    }
   ],
   "source": [
    "x = np.arange(30,50)\n",
    "y = norm.pdf(x, loc=mu, scale=std/n**0.5)\n",
    "\n",
    "fill_x = x[x>=speed_threshold]\n",
    "fill_y_bot = np.zeros_like(fill_x)\n",
    "fill_y_top = y[-len(fill_x):]\n",
    "\n",
    "fig, ax = plt.subplots(1, 1, figsize = (10,6))\n",
    "ax.plot(x, y)\n",
    "ax.vlines([speed_threshold], ymin=0, ymax=0.06)\n",
    "ax.fill_between(fill_x, fill_y_top)"
   ]
  },
  {
   "cell_type": "markdown",
   "metadata": {},
   "source": [
    "c)\n"
   ]
  },
  {
   "cell_type": "code",
   "execution_count": 58,
   "metadata": {},
   "outputs": [],
   "source": [
    "mu_0 = 40\n",
    "mu_1 = 45\n",
    "alpha = 0.04\n",
    "required_power = 0.9\n",
    "std = 5\n",
    "n = 3"
   ]
  },
  {
   "cell_type": "code",
   "execution_count": 63,
   "metadata": {},
   "outputs": [
    {
     "data": {
      "text/plain": [
       "0.49256603568204216"
      ]
     },
     "execution_count": 63,
     "metadata": {},
     "output_type": "execute_result"
    }
   ],
   "source": [
    "critical_value = norm.ppf(1-alpha, loc=mu_0, scale = std/n**0.5)\n",
    "# actual power of test\n",
    "power = 1-norm.cdf(critical_value, loc=mu_1, scale = std/n**0.5)\n",
    "power"
   ]
  },
  {
   "cell_type": "code",
   "execution_count": 64,
   "metadata": {},
   "outputs": [
    {
     "data": {
      "text/plain": [
       "0.9209648747875261"
      ]
     },
     "execution_count": 64,
     "metadata": {},
     "output_type": "execute_result"
    }
   ],
   "source": [
    "n = 10\n",
    "critical_value = norm.ppf(1-alpha, loc=mu_0, scale = std/n**0.5)\n",
    "# check if power >= 0.9\n",
    "power = 1-norm.cdf(critical_value, loc=mu_1, scale = std/n**0.5)\n",
    "power"
   ]
  },
  {
   "cell_type": "markdown",
   "metadata": {},
   "source": [
    "## Problem 5"
   ]
  },
  {
   "cell_type": "markdown",
   "metadata": {},
   "source": [
    "a)  \n",
    "P(type I error):  \n",
    "$P(reject H_0 | H_0) = (0.1 + 2.0 - 1.9)/2.0 = 0.1$\n",
    "\n",
    "\n",
    "b)\n",
    "P(type II error):   \n",
    "$P(fail \\ to \\ reject \\ H_0 | H_1) = (1.9 - 0.1)/2.5 = 0.72$"
   ]
  },
  {
   "cell_type": "code",
   "execution_count": null,
   "metadata": {},
   "outputs": [],
   "source": []
  }
 ],
 "metadata": {
  "kernelspec": {
   "display_name": "Python 3",
   "language": "python",
   "name": "python3"
  },
  "language_info": {
   "codemirror_mode": {
    "name": "ipython",
    "version": 3
   },
   "file_extension": ".py",
   "mimetype": "text/x-python",
   "name": "python",
   "nbconvert_exporter": "python",
   "pygments_lexer": "ipython3",
   "version": "3.7.3"
  }
 },
 "nbformat": 4,
 "nbformat_minor": 4
}
